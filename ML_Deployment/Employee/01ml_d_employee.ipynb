{
 "cells": [
  {
   "cell_type": "code",
   "execution_count": 1,
   "metadata": {},
   "outputs": [
    {
     "data": {
      "text/html": [
       "<div>\n",
       "<style scoped>\n",
       "    .dataframe tbody tr th:only-of-type {\n",
       "        vertical-align: middle;\n",
       "    }\n",
       "\n",
       "    .dataframe tbody tr th {\n",
       "        vertical-align: top;\n",
       "    }\n",
       "\n",
       "    .dataframe thead th {\n",
       "        text-align: right;\n",
       "    }\n",
       "</style>\n",
       "<table border=\"1\" class=\"dataframe\">\n",
       "  <thead>\n",
       "    <tr style=\"text-align: right;\">\n",
       "      <th></th>\n",
       "      <th>Employee_ID</th>\n",
       "      <th>Age</th>\n",
       "      <th>Gender</th>\n",
       "      <th>Department</th>\n",
       "      <th>Job_Title</th>\n",
       "      <th>Years_at_Company</th>\n",
       "      <th>Satisfaction_Level</th>\n",
       "      <th>Average_Monthly_Hours</th>\n",
       "      <th>Promotion_Last_5Years</th>\n",
       "      <th>Salary</th>\n",
       "      <th>Attrition</th>\n",
       "    </tr>\n",
       "  </thead>\n",
       "  <tbody>\n",
       "    <tr>\n",
       "      <th>0</th>\n",
       "      <td>0</td>\n",
       "      <td>27</td>\n",
       "      <td>Male</td>\n",
       "      <td>Marketing</td>\n",
       "      <td>Manager</td>\n",
       "      <td>9</td>\n",
       "      <td>0.586251</td>\n",
       "      <td>151</td>\n",
       "      <td>0</td>\n",
       "      <td>60132</td>\n",
       "      <td>0</td>\n",
       "    </tr>\n",
       "    <tr>\n",
       "      <th>1</th>\n",
       "      <td>1</td>\n",
       "      <td>53</td>\n",
       "      <td>Female</td>\n",
       "      <td>Sales</td>\n",
       "      <td>Engineer</td>\n",
       "      <td>10</td>\n",
       "      <td>0.261161</td>\n",
       "      <td>221</td>\n",
       "      <td>1</td>\n",
       "      <td>79947</td>\n",
       "      <td>0</td>\n",
       "    </tr>\n",
       "    <tr>\n",
       "      <th>2</th>\n",
       "      <td>2</td>\n",
       "      <td>59</td>\n",
       "      <td>Female</td>\n",
       "      <td>Marketing</td>\n",
       "      <td>Analyst</td>\n",
       "      <td>8</td>\n",
       "      <td>0.304382</td>\n",
       "      <td>184</td>\n",
       "      <td>0</td>\n",
       "      <td>46958</td>\n",
       "      <td>1</td>\n",
       "    </tr>\n",
       "    <tr>\n",
       "      <th>3</th>\n",
       "      <td>3</td>\n",
       "      <td>42</td>\n",
       "      <td>Female</td>\n",
       "      <td>Engineering</td>\n",
       "      <td>Manager</td>\n",
       "      <td>1</td>\n",
       "      <td>0.480779</td>\n",
       "      <td>242</td>\n",
       "      <td>0</td>\n",
       "      <td>40662</td>\n",
       "      <td>0</td>\n",
       "    </tr>\n",
       "    <tr>\n",
       "      <th>4</th>\n",
       "      <td>4</td>\n",
       "      <td>44</td>\n",
       "      <td>Female</td>\n",
       "      <td>Sales</td>\n",
       "      <td>Engineer</td>\n",
       "      <td>10</td>\n",
       "      <td>0.636244</td>\n",
       "      <td>229</td>\n",
       "      <td>1</td>\n",
       "      <td>74307</td>\n",
       "      <td>0</td>\n",
       "    </tr>\n",
       "  </tbody>\n",
       "</table>\n",
       "</div>"
      ],
      "text/plain": [
       "   Employee_ID  Age  Gender   Department Job_Title  Years_at_Company  \\\n",
       "0            0   27    Male    Marketing   Manager                 9   \n",
       "1            1   53  Female        Sales  Engineer                10   \n",
       "2            2   59  Female    Marketing   Analyst                 8   \n",
       "3            3   42  Female  Engineering   Manager                 1   \n",
       "4            4   44  Female        Sales  Engineer                10   \n",
       "\n",
       "   Satisfaction_Level  Average_Monthly_Hours  Promotion_Last_5Years  Salary  \\\n",
       "0            0.586251                    151                      0   60132   \n",
       "1            0.261161                    221                      1   79947   \n",
       "2            0.304382                    184                      0   46958   \n",
       "3            0.480779                    242                      0   40662   \n",
       "4            0.636244                    229                      1   74307   \n",
       "\n",
       "   Attrition  \n",
       "0          0  \n",
       "1          0  \n",
       "2          1  \n",
       "3          0  \n",
       "4          0  "
      ]
     },
     "execution_count": 1,
     "metadata": {},
     "output_type": "execute_result"
    }
   ],
   "source": [
    "import numpy as np\n",
    "import pandas as pd\n",
    "import matplotlib.pyplot as plt\n",
    "import seaborn as sns\n",
    "\n",
    "df = pd.read_csv(\"./data/Employee_attrition_data/employee_attrition_data.csv\")\n",
    "df.head()"
   ]
  },
  {
   "cell_type": "code",
   "execution_count": 2,
   "metadata": {},
   "outputs": [
    {
     "name": "stdout",
     "output_type": "stream",
     "text": [
      "<class 'pandas.core.frame.DataFrame'>\n",
      "RangeIndex: 1000 entries, 0 to 999\n",
      "Data columns (total 11 columns):\n",
      " #   Column                 Non-Null Count  Dtype  \n",
      "---  ------                 --------------  -----  \n",
      " 0   Employee_ID            1000 non-null   int64  \n",
      " 1   Age                    1000 non-null   int64  \n",
      " 2   Gender                 1000 non-null   object \n",
      " 3   Department             1000 non-null   object \n",
      " 4   Job_Title              1000 non-null   object \n",
      " 5   Years_at_Company       1000 non-null   int64  \n",
      " 6   Satisfaction_Level     1000 non-null   float64\n",
      " 7   Average_Monthly_Hours  1000 non-null   int64  \n",
      " 8   Promotion_Last_5Years  1000 non-null   int64  \n",
      " 9   Salary                 1000 non-null   int64  \n",
      " 10  Attrition              1000 non-null   int64  \n",
      "dtypes: float64(1), int64(7), object(3)\n",
      "memory usage: 86.1+ KB\n"
     ]
    }
   ],
   "source": [
    "df.info()"
   ]
  },
  {
   "cell_type": "code",
   "execution_count": 3,
   "metadata": {},
   "outputs": [
    {
     "data": {
      "text/html": [
       "<div>\n",
       "<style scoped>\n",
       "    .dataframe tbody tr th:only-of-type {\n",
       "        vertical-align: middle;\n",
       "    }\n",
       "\n",
       "    .dataframe tbody tr th {\n",
       "        vertical-align: top;\n",
       "    }\n",
       "\n",
       "    .dataframe thead th {\n",
       "        text-align: right;\n",
       "    }\n",
       "</style>\n",
       "<table border=\"1\" class=\"dataframe\">\n",
       "  <thead>\n",
       "    <tr style=\"text-align: right;\">\n",
       "      <th></th>\n",
       "      <th>Employee_ID</th>\n",
       "      <th>Age</th>\n",
       "      <th>Years_at_Company</th>\n",
       "      <th>Satisfaction_Level</th>\n",
       "      <th>Average_Monthly_Hours</th>\n",
       "      <th>Promotion_Last_5Years</th>\n",
       "      <th>Salary</th>\n",
       "      <th>Attrition</th>\n",
       "    </tr>\n",
       "  </thead>\n",
       "  <tbody>\n",
       "    <tr>\n",
       "      <th>count</th>\n",
       "      <td>1000.000000</td>\n",
       "      <td>1000.000000</td>\n",
       "      <td>1000.000000</td>\n",
       "      <td>1000.000000</td>\n",
       "      <td>1000.000000</td>\n",
       "      <td>1000.000000</td>\n",
       "      <td>1000.000000</td>\n",
       "      <td>1000.000000</td>\n",
       "    </tr>\n",
       "    <tr>\n",
       "      <th>mean</th>\n",
       "      <td>499.500000</td>\n",
       "      <td>42.205000</td>\n",
       "      <td>5.605000</td>\n",
       "      <td>0.505995</td>\n",
       "      <td>199.493000</td>\n",
       "      <td>0.486000</td>\n",
       "      <td>64624.980000</td>\n",
       "      <td>0.495000</td>\n",
       "    </tr>\n",
       "    <tr>\n",
       "      <th>std</th>\n",
       "      <td>288.819436</td>\n",
       "      <td>10.016452</td>\n",
       "      <td>2.822223</td>\n",
       "      <td>0.289797</td>\n",
       "      <td>29.631908</td>\n",
       "      <td>0.500054</td>\n",
       "      <td>20262.984333</td>\n",
       "      <td>0.500225</td>\n",
       "    </tr>\n",
       "    <tr>\n",
       "      <th>min</th>\n",
       "      <td>0.000000</td>\n",
       "      <td>25.000000</td>\n",
       "      <td>1.000000</td>\n",
       "      <td>0.001376</td>\n",
       "      <td>150.000000</td>\n",
       "      <td>0.000000</td>\n",
       "      <td>30099.000000</td>\n",
       "      <td>0.000000</td>\n",
       "    </tr>\n",
       "    <tr>\n",
       "      <th>25%</th>\n",
       "      <td>249.750000</td>\n",
       "      <td>33.000000</td>\n",
       "      <td>3.000000</td>\n",
       "      <td>0.258866</td>\n",
       "      <td>173.000000</td>\n",
       "      <td>0.000000</td>\n",
       "      <td>47613.500000</td>\n",
       "      <td>0.000000</td>\n",
       "    </tr>\n",
       "    <tr>\n",
       "      <th>50%</th>\n",
       "      <td>499.500000</td>\n",
       "      <td>43.000000</td>\n",
       "      <td>6.000000</td>\n",
       "      <td>0.505675</td>\n",
       "      <td>201.000000</td>\n",
       "      <td>0.000000</td>\n",
       "      <td>64525.000000</td>\n",
       "      <td>0.000000</td>\n",
       "    </tr>\n",
       "    <tr>\n",
       "      <th>75%</th>\n",
       "      <td>749.250000</td>\n",
       "      <td>51.000000</td>\n",
       "      <td>8.000000</td>\n",
       "      <td>0.761135</td>\n",
       "      <td>225.000000</td>\n",
       "      <td>1.000000</td>\n",
       "      <td>81921.000000</td>\n",
       "      <td>1.000000</td>\n",
       "    </tr>\n",
       "    <tr>\n",
       "      <th>max</th>\n",
       "      <td>999.000000</td>\n",
       "      <td>59.000000</td>\n",
       "      <td>10.000000</td>\n",
       "      <td>0.999979</td>\n",
       "      <td>249.000000</td>\n",
       "      <td>1.000000</td>\n",
       "      <td>99991.000000</td>\n",
       "      <td>1.000000</td>\n",
       "    </tr>\n",
       "  </tbody>\n",
       "</table>\n",
       "</div>"
      ],
      "text/plain": [
       "       Employee_ID          Age  Years_at_Company  Satisfaction_Level  \\\n",
       "count  1000.000000  1000.000000       1000.000000         1000.000000   \n",
       "mean    499.500000    42.205000          5.605000            0.505995   \n",
       "std     288.819436    10.016452          2.822223            0.289797   \n",
       "min       0.000000    25.000000          1.000000            0.001376   \n",
       "25%     249.750000    33.000000          3.000000            0.258866   \n",
       "50%     499.500000    43.000000          6.000000            0.505675   \n",
       "75%     749.250000    51.000000          8.000000            0.761135   \n",
       "max     999.000000    59.000000         10.000000            0.999979   \n",
       "\n",
       "       Average_Monthly_Hours  Promotion_Last_5Years        Salary    Attrition  \n",
       "count            1000.000000            1000.000000   1000.000000  1000.000000  \n",
       "mean              199.493000               0.486000  64624.980000     0.495000  \n",
       "std                29.631908               0.500054  20262.984333     0.500225  \n",
       "min               150.000000               0.000000  30099.000000     0.000000  \n",
       "25%               173.000000               0.000000  47613.500000     0.000000  \n",
       "50%               201.000000               0.000000  64525.000000     0.000000  \n",
       "75%               225.000000               1.000000  81921.000000     1.000000  \n",
       "max               249.000000               1.000000  99991.000000     1.000000  "
      ]
     },
     "execution_count": 3,
     "metadata": {},
     "output_type": "execute_result"
    }
   ],
   "source": [
    "df.describe()"
   ]
  },
  {
   "cell_type": "code",
   "execution_count": 4,
   "metadata": {},
   "outputs": [
    {
     "data": {
      "text/plain": [
       "Employee_ID              0\n",
       "Age                      0\n",
       "Gender                   0\n",
       "Department               0\n",
       "Job_Title                0\n",
       "Years_at_Company         0\n",
       "Satisfaction_Level       0\n",
       "Average_Monthly_Hours    0\n",
       "Promotion_Last_5Years    0\n",
       "Salary                   0\n",
       "Attrition                0\n",
       "dtype: int64"
      ]
     },
     "execution_count": 4,
     "metadata": {},
     "output_type": "execute_result"
    }
   ],
   "source": [
    "df.isna().sum()"
   ]
  },
  {
   "cell_type": "code",
   "execution_count": 5,
   "metadata": {},
   "outputs": [
    {
     "data": {
      "text/plain": [
       "0"
      ]
     },
     "execution_count": 5,
     "metadata": {},
     "output_type": "execute_result"
    }
   ],
   "source": [
    "df.duplicated().sum()"
   ]
  },
  {
   "cell_type": "code",
   "execution_count": 6,
   "metadata": {},
   "outputs": [],
   "source": [
    "df.drop(columns=[\"Employee_ID\"], inplace=True)"
   ]
  },
  {
   "cell_type": "code",
   "execution_count": 7,
   "metadata": {},
   "outputs": [
    {
     "data": {
      "image/png": "[encoded data removed]",
      "text/plain": [
       "<Figure size 640x480 with 1 Axes>"
      ]
     },
     "metadata": {},
     "output_type": "display_data"
    }
   ],
   "source": [
    "df[\"Gender\"].value_counts().plot(kind=\"pie\")\n",
    "plt.title(\"Gender of Employees\")\n",
    "plt.ylabel(\"\")\n",
    "plt.legend()\n",
    "plt.show()"
   ]
  },
  {
   "cell_type": "code",
   "execution_count": 8,
   "metadata": {},
   "outputs": [
    {
     "data": {
      "image/png": "[encoded data removed]",
      "text/plain": [
       "<Figure size 640x480 with 1 Axes>"
      ]
     },
     "metadata": {},
     "output_type": "display_data"
    }
   ],
   "source": [
    "df[\"Age\"].value_counts().plot(kind=\"bar\")\n",
    "plt.title(\"Age of Employees\")\n",
    "plt.show()"
   ]
  },
  {
   "cell_type": "code",
   "execution_count": 9,
   "metadata": {},
   "outputs": [
    {
     "data": {
      "image/png": "[encoded data removed]",
      "text/plain": [
       "<Figure size 640x480 with 1 Axes>"
      ]
     },
     "metadata": {},
     "output_type": "display_data"
    }
   ],
   "source": [
    "df.groupby(\"Job_Title\")[\"Salary\"].mean().sort_values(ascending=False).plot(kind=\"bar\")\n",
    "plt.xlabel(\"Job Title\")\n",
    "plt.ylabel(\"Salary\")\n",
    "plt.xticks(rotation=45)\n",
    "plt.show()"
   ]
  },
  {
   "cell_type": "code",
   "execution_count": 10,
   "metadata": {},
   "outputs": [
    {
     "data": {
      "text/html": [
       "<div>\n",
       "<style scoped>\n",
       "    .dataframe tbody tr th:only-of-type {\n",
       "        vertical-align: middle;\n",
       "    }\n",
       "\n",
       "    .dataframe tbody tr th {\n",
       "        vertical-align: top;\n",
       "    }\n",
       "\n",
       "    .dataframe thead th {\n",
       "        text-align: right;\n",
       "    }\n",
       "</style>\n",
       "<table border=\"1\" class=\"dataframe\">\n",
       "  <thead>\n",
       "    <tr style=\"text-align: right;\">\n",
       "      <th></th>\n",
       "      <th>Age</th>\n",
       "      <th>Gender</th>\n",
       "      <th>Department</th>\n",
       "      <th>Job_Title</th>\n",
       "      <th>Years_at_Company</th>\n",
       "      <th>Satisfaction_Level</th>\n",
       "      <th>Average_Monthly_Hours</th>\n",
       "      <th>Promotion_Last_5Years</th>\n",
       "      <th>Salary</th>\n",
       "      <th>Attrition</th>\n",
       "    </tr>\n",
       "  </thead>\n",
       "  <tbody>\n",
       "    <tr>\n",
       "      <th>0</th>\n",
       "      <td>27</td>\n",
       "      <td>1</td>\n",
       "      <td>3</td>\n",
       "      <td>4</td>\n",
       "      <td>9</td>\n",
       "      <td>0.586251</td>\n",
       "      <td>151</td>\n",
       "      <td>0</td>\n",
       "      <td>60132</td>\n",
       "      <td>0</td>\n",
       "    </tr>\n",
       "    <tr>\n",
       "      <th>1</th>\n",
       "      <td>53</td>\n",
       "      <td>0</td>\n",
       "      <td>4</td>\n",
       "      <td>2</td>\n",
       "      <td>10</td>\n",
       "      <td>0.261161</td>\n",
       "      <td>221</td>\n",
       "      <td>1</td>\n",
       "      <td>79947</td>\n",
       "      <td>0</td>\n",
       "    </tr>\n",
       "    <tr>\n",
       "      <th>2</th>\n",
       "      <td>59</td>\n",
       "      <td>0</td>\n",
       "      <td>3</td>\n",
       "      <td>1</td>\n",
       "      <td>8</td>\n",
       "      <td>0.304382</td>\n",
       "      <td>184</td>\n",
       "      <td>0</td>\n",
       "      <td>46958</td>\n",
       "      <td>1</td>\n",
       "    </tr>\n",
       "    <tr>\n",
       "      <th>3</th>\n",
       "      <td>42</td>\n",
       "      <td>0</td>\n",
       "      <td>0</td>\n",
       "      <td>4</td>\n",
       "      <td>1</td>\n",
       "      <td>0.480779</td>\n",
       "      <td>242</td>\n",
       "      <td>0</td>\n",
       "      <td>40662</td>\n",
       "      <td>0</td>\n",
       "    </tr>\n",
       "    <tr>\n",
       "      <th>4</th>\n",
       "      <td>44</td>\n",
       "      <td>0</td>\n",
       "      <td>4</td>\n",
       "      <td>2</td>\n",
       "      <td>10</td>\n",
       "      <td>0.636244</td>\n",
       "      <td>229</td>\n",
       "      <td>1</td>\n",
       "      <td>74307</td>\n",
       "      <td>0</td>\n",
       "    </tr>\n",
       "  </tbody>\n",
       "</table>\n",
       "</div>"
      ],
      "text/plain": [
       "   Age  Gender  Department  Job_Title  Years_at_Company  Satisfaction_Level  \\\n",
       "0   27       1           3          4                 9            0.586251   \n",
       "1   53       0           4          2                10            0.261161   \n",
       "2   59       0           3          1                 8            0.304382   \n",
       "3   42       0           0          4                 1            0.480779   \n",
       "4   44       0           4          2                10            0.636244   \n",
       "\n",
       "   Average_Monthly_Hours  Promotion_Last_5Years  Salary  Attrition  \n",
       "0                    151                      0   60132          0  \n",
       "1                    221                      1   79947          0  \n",
       "2                    184                      0   46958          1  \n",
       "3                    242                      0   40662          0  \n",
       "4                    229                      1   74307          0  "
      ]
     },
     "execution_count": 10,
     "metadata": {},
     "output_type": "execute_result"
    }
   ],
   "source": [
    "from sklearn.preprocessing import LabelEncoder\n",
    "from sklearn.preprocessing import StandardScaler\n",
    "\n",
    "le = LabelEncoder()\n",
    "\n",
    "df[\"Gender\"] = le.fit_transform(df[\"Gender\"])\n",
    "df[\"Department\"] = le.fit_transform(df[\"Department\"])\n",
    "df[\"Job_Title\"] = le.fit_transform(df[\"Job_Title\"])\n",
    "\n",
    "df.head()"
   ]
  },
  {
   "cell_type": "code",
   "execution_count": 11,
   "metadata": {},
   "outputs": [
    {
     "data": {
      "text/html": [
       "<div>\n",
       "<style scoped>\n",
       "    .dataframe tbody tr th:only-of-type {\n",
       "        vertical-align: middle;\n",
       "    }\n",
       "\n",
       "    .dataframe tbody tr th {\n",
       "        vertical-align: top;\n",
       "    }\n",
       "\n",
       "    .dataframe thead th {\n",
       "        text-align: right;\n",
       "    }\n",
       "</style>\n",
       "<table border=\"1\" class=\"dataframe\">\n",
       "  <thead>\n",
       "    <tr style=\"text-align: right;\">\n",
       "      <th></th>\n",
       "      <th>Age</th>\n",
       "      <th>Gender</th>\n",
       "      <th>Department</th>\n",
       "      <th>Job_Title</th>\n",
       "      <th>Years_at_Company</th>\n",
       "      <th>Satisfaction_Level</th>\n",
       "      <th>Average_Monthly_Hours</th>\n",
       "      <th>Promotion_Last_5Years</th>\n",
       "      <th>Salary</th>\n",
       "      <th>Attrition</th>\n",
       "    </tr>\n",
       "  </thead>\n",
       "  <tbody>\n",
       "    <tr>\n",
       "      <th>Salary</th>\n",
       "      <td>-0.018682</td>\n",
       "      <td>-0.071373</td>\n",
       "      <td>0.049333</td>\n",
       "      <td>-0.005134</td>\n",
       "      <td>0.036053</td>\n",
       "      <td>-0.027073</td>\n",
       "      <td>-0.054562</td>\n",
       "      <td>0.017260</td>\n",
       "      <td>1.000000</td>\n",
       "      <td>-0.037818</td>\n",
       "    </tr>\n",
       "    <tr>\n",
       "      <th>Department</th>\n",
       "      <td>0.023329</td>\n",
       "      <td>-0.023710</td>\n",
       "      <td>1.000000</td>\n",
       "      <td>0.017153</td>\n",
       "      <td>-0.020653</td>\n",
       "      <td>0.019207</td>\n",
       "      <td>-0.019631</td>\n",
       "      <td>0.064195</td>\n",
       "      <td>0.049333</td>\n",
       "      <td>-0.050356</td>\n",
       "    </tr>\n",
       "    <tr>\n",
       "      <th>Years_at_Company</th>\n",
       "      <td>0.018837</td>\n",
       "      <td>0.022598</td>\n",
       "      <td>-0.020653</td>\n",
       "      <td>-0.010053</td>\n",
       "      <td>1.000000</td>\n",
       "      <td>-0.032470</td>\n",
       "      <td>-0.060726</td>\n",
       "      <td>-0.010661</td>\n",
       "      <td>0.036053</td>\n",
       "      <td>0.003208</td>\n",
       "    </tr>\n",
       "    <tr>\n",
       "      <th>Promotion_Last_5Years</th>\n",
       "      <td>0.039444</td>\n",
       "      <td>-0.007668</td>\n",
       "      <td>0.064195</td>\n",
       "      <td>-0.052379</td>\n",
       "      <td>-0.010661</td>\n",
       "      <td>0.002927</td>\n",
       "      <td>-0.031318</td>\n",
       "      <td>1.000000</td>\n",
       "      <td>0.017260</td>\n",
       "      <td>0.017728</td>\n",
       "    </tr>\n",
       "    <tr>\n",
       "      <th>Job_Title</th>\n",
       "      <td>-0.019158</td>\n",
       "      <td>-0.027999</td>\n",
       "      <td>0.017153</td>\n",
       "      <td>1.000000</td>\n",
       "      <td>-0.010053</td>\n",
       "      <td>-0.021041</td>\n",
       "      <td>-0.030540</td>\n",
       "      <td>-0.052379</td>\n",
       "      <td>-0.005134</td>\n",
       "      <td>0.006921</td>\n",
       "    </tr>\n",
       "    <tr>\n",
       "      <th>Age</th>\n",
       "      <td>1.000000</td>\n",
       "      <td>0.036815</td>\n",
       "      <td>0.023329</td>\n",
       "      <td>-0.019158</td>\n",
       "      <td>0.018837</td>\n",
       "      <td>0.021263</td>\n",
       "      <td>-0.031304</td>\n",
       "      <td>0.039444</td>\n",
       "      <td>-0.018682</td>\n",
       "      <td>-0.008685</td>\n",
       "    </tr>\n",
       "    <tr>\n",
       "      <th>Satisfaction_Level</th>\n",
       "      <td>0.021263</td>\n",
       "      <td>0.053603</td>\n",
       "      <td>0.019207</td>\n",
       "      <td>-0.021041</td>\n",
       "      <td>-0.032470</td>\n",
       "      <td>1.000000</td>\n",
       "      <td>-0.008913</td>\n",
       "      <td>0.002927</td>\n",
       "      <td>-0.027073</td>\n",
       "      <td>-0.009601</td>\n",
       "    </tr>\n",
       "    <tr>\n",
       "      <th>Attrition</th>\n",
       "      <td>-0.008685</td>\n",
       "      <td>-0.033884</td>\n",
       "      <td>-0.050356</td>\n",
       "      <td>0.006921</td>\n",
       "      <td>0.003208</td>\n",
       "      <td>-0.009601</td>\n",
       "      <td>-0.023706</td>\n",
       "      <td>0.017728</td>\n",
       "      <td>-0.037818</td>\n",
       "      <td>1.000000</td>\n",
       "    </tr>\n",
       "    <tr>\n",
       "      <th>Average_Monthly_Hours</th>\n",
       "      <td>-0.031304</td>\n",
       "      <td>-0.064458</td>\n",
       "      <td>-0.019631</td>\n",
       "      <td>-0.030540</td>\n",
       "      <td>-0.060726</td>\n",
       "      <td>-0.008913</td>\n",
       "      <td>1.000000</td>\n",
       "      <td>-0.031318</td>\n",
       "      <td>-0.054562</td>\n",
       "      <td>-0.023706</td>\n",
       "    </tr>\n",
       "    <tr>\n",
       "      <th>Gender</th>\n",
       "      <td>0.036815</td>\n",
       "      <td>1.000000</td>\n",
       "      <td>-0.023710</td>\n",
       "      <td>-0.027999</td>\n",
       "      <td>0.022598</td>\n",
       "      <td>0.053603</td>\n",
       "      <td>-0.064458</td>\n",
       "      <td>-0.007668</td>\n",
       "      <td>-0.071373</td>\n",
       "      <td>-0.033884</td>\n",
       "    </tr>\n",
       "  </tbody>\n",
       "</table>\n",
       "</div>"
      ],
      "text/plain": [
       "                            Age    Gender  Department  Job_Title  \\\n",
       "Salary                -0.018682 -0.071373    0.049333  -0.005134   \n",
       "Department             0.023329 -0.023710    1.000000   0.017153   \n",
       "Years_at_Company       0.018837  0.022598   -0.020653  -0.010053   \n",
       "Promotion_Last_5Years  0.039444 -0.007668    0.064195  -0.052379   \n",
       "Job_Title             -0.019158 -0.027999    0.017153   1.000000   \n",
       "Age                    1.000000  0.036815    0.023329  -0.019158   \n",
       "Satisfaction_Level     0.021263  0.053603    0.019207  -0.021041   \n",
       "Attrition             -0.008685 -0.033884   -0.050356   0.006921   \n",
       "Average_Monthly_Hours -0.031304 -0.064458   -0.019631  -0.030540   \n",
       "Gender                 0.036815  1.000000   -0.023710  -0.027999   \n",
       "\n",
       "                       Years_at_Company  Satisfaction_Level  \\\n",
       "Salary                         0.036053           -0.027073   \n",
       "Department                    -0.020653            0.019207   \n",
       "Years_at_Company               1.000000           -0.032470   \n",
       "Promotion_Last_5Years         -0.010661            0.002927   \n",
       "Job_Title                     -0.010053           -0.021041   \n",
       "Age                            0.018837            0.021263   \n",
       "Satisfaction_Level            -0.032470            1.000000   \n",
       "Attrition                      0.003208           -0.009601   \n",
       "Average_Monthly_Hours         -0.060726           -0.008913   \n",
       "Gender                         0.022598            0.053603   \n",
       "\n",
       "                       Average_Monthly_Hours  Promotion_Last_5Years    Salary  \\\n",
       "Salary                             -0.054562               0.017260  1.000000   \n",
       "Department                         -0.019631               0.064195  0.049333   \n",
       "Years_at_Company                   -0.060726              -0.010661  0.036053   \n",
       "Promotion_Last_5Years              -0.031318               1.000000  0.017260   \n",
       "Job_Title                          -0.030540              -0.052379 -0.005134   \n",
       "Age                                -0.031304               0.039444 -0.018682   \n",
       "Satisfaction_Level                 -0.008913               0.002927 -0.027073   \n",
       "Attrition                          -0.023706               0.017728 -0.037818   \n",
       "Average_Monthly_Hours               1.000000              -0.031318 -0.054562   \n",
       "Gender                             -0.064458              -0.007668 -0.071373   \n",
       "\n",
       "                       Attrition  \n",
       "Salary                 -0.037818  \n",
       "Department             -0.050356  \n",
       "Years_at_Company        0.003208  \n",
       "Promotion_Last_5Years   0.017728  \n",
       "Job_Title               0.006921  \n",
       "Age                    -0.008685  \n",
       "Satisfaction_Level     -0.009601  \n",
       "Attrition               1.000000  \n",
       "Average_Monthly_Hours  -0.023706  \n",
       "Gender                 -0.033884  "
      ]
     },
     "execution_count": 11,
     "metadata": {},
     "output_type": "execute_result"
    }
   ],
   "source": [
    "correlation = df.corr(numeric_only=True).sort_values(\"Salary\", ascending=False)\n",
    "correlation"
   ]
  },
  {
   "cell_type": "code",
   "execution_count": 12,
   "metadata": {},
   "outputs": [
    {
     "data": {
      "text/plain": [
       "<Axes: >"
      ]
     },
     "execution_count": 12,
     "metadata": {},
     "output_type": "execute_result"
    },
    {
     "data": {
      "image/png": "[encoded data removed]",
      "text/plain": [
       "<Figure size 640x480 with 2 Axes>"
      ]
     },
     "metadata": {},
     "output_type": "display_data"
    }
   ],
   "source": [
    "sns.heatmap(correlation, annot=True)"
   ]
  },
  {
   "cell_type": "code",
   "execution_count": 13,
   "metadata": {},
   "outputs": [
    {
     "data": {
      "text/plain": [
       "Salary\n",
       "30099     3.0\n",
       "30181     1.0\n",
       "30194     6.0\n",
       "30262     7.0\n",
       "30269    10.0\n",
       "         ... \n",
       "99672     6.0\n",
       "99801     4.0\n",
       "99851     4.0\n",
       "99859     6.0\n",
       "99991     1.0\n",
       "Name: Years_at_Company, Length: 995, dtype: float64"
      ]
     },
     "execution_count": 13,
     "metadata": {},
     "output_type": "execute_result"
    }
   ],
   "source": [
    "df.groupby(\"Salary\")[\"Years_at_Company\"].mean()"
   ]
  },
  {
   "cell_type": "code",
   "execution_count": 14,
   "metadata": {},
   "outputs": [
    {
     "data": {
      "text/plain": [
       "Salary\n",
       "30099    26.0\n",
       "30181    50.0\n",
       "30194    57.0\n",
       "30262    39.0\n",
       "30269    28.0\n",
       "         ... \n",
       "99672    26.0\n",
       "99801    35.0\n",
       "99851    44.0\n",
       "99859    55.0\n",
       "99991    58.0\n",
       "Name: Age, Length: 995, dtype: float64"
      ]
     },
     "execution_count": 14,
     "metadata": {},
     "output_type": "execute_result"
    }
   ],
   "source": [
    "df.groupby(\"Salary\")[\"Age\"].mean()"
   ]
  },
  {
   "cell_type": "code",
   "execution_count": 15,
   "metadata": {},
   "outputs": [
    {
     "name": "stdout",
     "output_type": "stream",
     "text": [
      "(800, 3)\n",
      "(200, 3)\n"
     ]
    }
   ],
   "source": [
    "from sklearn.model_selection import train_test_split\n",
    "from sklearn.linear_model import LinearRegression\n",
    "from sklearn.metrics import mean_absolute_error, mean_squared_error\n",
    "\n",
    "X = df[[\"Years_at_Company\", \"Satisfaction_Level\", \"Average_Monthly_Hours\"]]\n",
    "y = df[\"Salary\"]\n",
    "\n",
    "X_train, X_test, y_train, y_test = train_test_split(X, y, test_size=0.2, random_state=42)\n",
    "\n",
    "sc = StandardScaler()\n",
    "\n",
    "X_train = sc.fit_transform(X_train)\n",
    "X_test = sc.fit_transform(X_test)\n",
    "\n",
    "print(X_train.shape)\n",
    "print(X_test.shape)"
   ]
  },
  {
   "cell_type": "code",
   "execution_count": 16,
   "metadata": {},
   "outputs": [
    {
     "data": {
      "text/plain": [
       "['scaler.pkl']"
      ]
     },
     "execution_count": 16,
     "metadata": {},
     "output_type": "execute_result"
    }
   ],
   "source": [
    "import joblib\n",
    "joblib.dump(sc, \"scaler.pkl\")"
   ]
  },
  {
   "cell_type": "code",
   "execution_count": 17,
   "metadata": {},
   "outputs": [
    {
     "data": {
      "text/html": [
       "<style>#sk-container-id-1 {color: black;}#sk-container-id-1 pre{padding: 0;}#sk-container-id-1 div.sk-toggleable {background-color: white;}#sk-container-id-1 label.sk-toggleable__label {cursor: pointer;display: block;width: 100%;margin-bottom: 0;padding: 0.3em;box-sizing: border-box;text-align: center;}#sk-container-id-1 label.sk-toggleable__label-arrow:before {content: \"▸\";float: left;margin-right: 0.25em;color: #696969;}#sk-container-id-1 label.sk-toggleable__label-arrow:hover:before {color: black;}#sk-container-id-1 div.sk-estimator:hover label.sk-toggleable__label-arrow:before {color: black;}#sk-container-id-1 div.sk-toggleable__content {max-height: 0;max-width: 0;overflow: hidden;text-align: left;background-color: #f0f8ff;}#sk-container-id-1 div.sk-toggleable__content pre {margin: 0.2em;color: black;border-radius: 0.25em;background-color: #f0f8ff;}#sk-container-id-1 input.sk-toggleable__control:checked~div.sk-toggleable__content {max-height: 200px;max-width: 100%;overflow: auto;}#sk-container-id-1 input.sk-toggleable__control:checked~label.sk-toggleable__label-arrow:before {content: \"▾\";}#sk-container-id-1 div.sk-estimator input.sk-toggleable__control:checked~label.sk-toggleable__label {background-color: #d4ebff;}#sk-container-id-1 div.sk-label input.sk-toggleable__control:checked~label.sk-toggleable__label {background-color: #d4ebff;}#sk-container-id-1 input.sk-hidden--visually {border: 0;clip: rect(1px 1px 1px 1px);clip: rect(1px, 1px, 1px, 1px);height: 1px;margin: -1px;overflow: hidden;padding: 0;position: absolute;width: 1px;}#sk-container-id-1 div.sk-estimator {font-family: monospace;background-color: #f0f8ff;border: 1px dotted black;border-radius: 0.25em;box-sizing: border-box;margin-bottom: 0.5em;}#sk-container-id-1 div.sk-estimator:hover {background-color: #d4ebff;}#sk-container-id-1 div.sk-parallel-item::after {content: \"\";width: 100%;border-bottom: 1px solid gray;flex-grow: 1;}#sk-container-id-1 div.sk-label:hover label.sk-toggleable__label {background-color: #d4ebff;}#sk-container-id-1 div.sk-serial::before {content: \"\";position: absolute;border-left: 1px solid gray;box-sizing: border-box;top: 0;bottom: 0;left: 50%;z-index: 0;}#sk-container-id-1 div.sk-serial {display: flex;flex-direction: column;align-items: center;background-color: white;padding-right: 0.2em;padding-left: 0.2em;position: relative;}#sk-container-id-1 div.sk-item {position: relative;z-index: 1;}#sk-container-id-1 div.sk-parallel {display: flex;align-items: stretch;justify-content: center;background-color: white;position: relative;}#sk-container-id-1 div.sk-item::before, #sk-container-id-1 div.sk-parallel-item::before {content: \"\";position: absolute;border-left: 1px solid gray;box-sizing: border-box;top: 0;bottom: 0;left: 50%;z-index: -1;}#sk-container-id-1 div.sk-parallel-item {display: flex;flex-direction: column;z-index: 1;position: relative;background-color: white;}#sk-container-id-1 div.sk-parallel-item:first-child::after {align-self: flex-end;width: 50%;}#sk-container-id-1 div.sk-parallel-item:last-child::after {align-self: flex-start;width: 50%;}#sk-container-id-1 div.sk-parallel-item:only-child::after {width: 0;}#sk-container-id-1 div.sk-dashed-wrapped {border: 1px dashed gray;margin: 0 0.4em 0.5em 0.4em;box-sizing: border-box;padding-bottom: 0.4em;background-color: white;}#sk-container-id-1 div.sk-label label {font-family: monospace;font-weight: bold;display: inline-block;line-height: 1.2em;}#sk-container-id-1 div.sk-label-container {text-align: center;}#sk-container-id-1 div.sk-container {/* jupyter's `normalize.less` sets `[hidden] { display: none; }` but bootstrap.min.css set `[hidden] { display: none !important; }` so we also need the `!important` here to be able to override the default hidden behavior on the sphinx rendered scikit-learn.org. See: https://github.com/scikit-learn/scikit-learn/issues/21755 */display: inline-block !important;position: relative;}#sk-container-id-1 div.sk-text-repr-fallback {display: none;}</style><div id=\"sk-container-id-1\" class=\"sk-top-container\"><div class=\"sk-text-repr-fallback\"><pre>LinearRegression()</pre><b>In a Jupyter environment, please rerun this cell to show the HTML representation or trust the notebook. <br />On GitHub, the HTML representation is unable to render, please try loading this page with nbviewer.org.</b></div><div class=\"sk-container\" hidden><div class=\"sk-item\"><div class=\"sk-estimator sk-toggleable\"><input class=\"sk-toggleable__control sk-hidden--visually\" id=\"sk-estimator-id-1\" type=\"checkbox\" checked><label for=\"sk-estimator-id-1\" class=\"sk-toggleable__label sk-toggleable__label-arrow\">LinearRegression</label><div class=\"sk-toggleable__content\"><pre>LinearRegression()</pre></div></div></div></div></div>"
      ],
      "text/plain": [
       "LinearRegression()"
      ]
     },
     "execution_count": 17,
     "metadata": {},
     "output_type": "execute_result"
    }
   ],
   "source": [
    "lr = LinearRegression()\n",
    "\n",
    "lr.fit(X_train, y_train)"
   ]
  },
  {
   "cell_type": "code",
   "execution_count": 18,
   "metadata": {},
   "outputs": [],
   "source": [
    "predict = lr.predict(X_test)"
   ]
  },
  {
   "cell_type": "code",
   "execution_count": 19,
   "metadata": {},
   "outputs": [
    {
     "name": "stdout",
     "output_type": "stream",
     "text": [
      "Mean Absolute Error: 18465.74543095977\n",
      "Mean Squared Error: 446762493.85128975\n",
      "Test Score: -0.006836341244118138\n",
      "Train Score: 0.006813155001638593\n"
     ]
    }
   ],
   "source": [
    "print(f\"Mean Absolute Error: {mean_absolute_error(y_test, predict)}\")\n",
    "print(f\"Mean Squared Error: {mean_squared_error(y_test, predict)}\")\n",
    "print(f\"Test Score: {lr.score(X_test, y_test)}\")\n",
    "print(f\"Train Score: {lr.score(X_train, y_train)}\")"
   ]
  },
  {
   "cell_type": "code",
   "execution_count": 20,
   "metadata": {},
   "outputs": [],
   "source": [
    "from sklearn.svm import SVR\n",
    "from sklearn.model_selection import GridSearchCV\n",
    "\n",
    "svr = SVR()\n",
    "svr.fit(X_train, y_train)\n",
    "\n",
    "predict_svr = svr.predict(X_test)"
   ]
  },
  {
   "cell_type": "code",
   "execution_count": 21,
   "metadata": {},
   "outputs": [
    {
     "name": "stdout",
     "output_type": "stream",
     "text": [
      "Mean Absolute Error: 18443.659975735474\n",
      "Mean Squared Error: 445124556.023675\n",
      "Test Score: -0.0031450391490728258\n"
     ]
    },
    {
     "name": "stdout",
     "output_type": "stream",
     "text": [
      "Train Score: -2.92333610112383e-05\n"
     ]
    }
   ],
   "source": [
    "print(f\"Mean Absolute Error: {mean_absolute_error(y_test, predict_svr)}\")\n",
    "print(f\"Mean Squared Error: {mean_squared_error(y_test, predict_svr)}\")\n",
    "print(f\"Test Score: {svr.score(X_test, y_test)}\")\n",
    "print(f\"Train Score: {svr.score(X_train, y_train)}\")"
   ]
  },
  {
   "cell_type": "code",
   "execution_count": 22,
   "metadata": {},
   "outputs": [
    {
     "data": {
      "text/plain": [
       "{'C': 0.5, 'degree': 3, 'kernel': 'poly'}"
      ]
     },
     "execution_count": 22,
     "metadata": {},
     "output_type": "execute_result"
    }
   ],
   "source": [
    "svr_params = {\"kernel\": [\"linear\", \"poly\", \"rbf\"],\n",
    "          \"degree\": [2, 3, 4],\n",
    "          \"C\": [0.01, 0.1, 0.5]}\n",
    "\n",
    "gs_svr = GridSearchCV(svr, svr_params)\n",
    "\n",
    "gs_svr.fit(X_test, y_test)\n",
    "\n",
    "gs_svr.best_params_"
   ]
  },
  {
   "cell_type": "code",
   "execution_count": 23,
   "metadata": {},
   "outputs": [
    {
     "name": "stdout",
     "output_type": "stream",
     "text": [
      "Mean Absolute Error: 18425.814304692558\n",
      "Mean Squared Error: 443728828.5803516\n",
      "Test Score: 4.1090940394727937e-07\n",
      "Train Score: -0.0013054734190167672\n"
     ]
    }
   ],
   "source": [
    "predict_gs_svr = gs_svr.predict(X_test)\n",
    "\n",
    "print(f\"Mean Absolute Error: {mean_absolute_error(y_test, predict_gs_svr)}\")\n",
    "print(f\"Mean Squared Error: {mean_squared_error(y_test, predict_gs_svr)}\")\n",
    "print(f\"Test Score: {gs_svr.score(X_test, y_test)}\")\n",
    "print(f\"Train Score: {gs_svr.score(X_train, y_train)}\")"
   ]
  },
  {
   "cell_type": "code",
   "execution_count": 24,
   "metadata": {},
   "outputs": [
    {
     "name": "stdout",
     "output_type": "stream",
     "text": [
      "Mean Absolute Error: 18599.25656456726\n",
      "Mean Squared Error: 454238095.2081366\n",
      "Test Score: -0.02368356369970903\n",
      "Train Score: 0.06510639902027904\n"
     ]
    }
   ],
   "source": [
    "from sklearn.ensemble import RandomForestRegressor\n",
    "\n",
    "rf = RandomForestRegressor(n_estimators=50, max_depth=3)\n",
    "\n",
    "rf.fit(X_train, y_train)\n",
    "\n",
    "predict_rf = rf.predict(X_test)\n",
    "\n",
    "print(f\"Mean Absolute Error: {mean_absolute_error(y_test, predict_rf)}\")\n",
    "print(f\"Mean Squared Error: {mean_squared_error(y_test, predict_rf)}\")\n",
    "print(f\"Test Score: {rf.score(X_test, y_test)}\")\n",
    "print(f\"Train Score: {rf.score(X_train, y_train)}\")"
   ]
  },
  {
   "cell_type": "code",
   "execution_count": 25,
   "metadata": {},
   "outputs": [
    {
     "data": {
      "text/plain": [
       "{'max_depth': 2, 'n_estimators': 25}"
      ]
     },
     "execution_count": 25,
     "metadata": {},
     "output_type": "execute_result"
    }
   ],
   "source": [
    "rf_params = {\"n_estimators\": [25, 50, 100],\n",
    "             \"max_depth\": [2, 3, 4, 5]}\n",
    "\n",
    "gs_rf = GridSearchCV(estimator=rf, param_grid=rf_params)\n",
    "\n",
    "gs_rf.fit(X_train, y_train)\n",
    "\n",
    "gs_rf.best_params_"
   ]
  },
  {
   "cell_type": "code",
   "execution_count": 26,
   "metadata": {},
   "outputs": [
    {
     "name": "stdout",
     "output_type": "stream",
     "text": [
      "Mean Absolute Error: 18414.100362272846\n",
      "Mean Squared Error: 447046077.6286376\n",
      "Test Score: -0.007475433506227702\n",
      "Train Score: 0.03255329862874223\n"
     ]
    }
   ],
   "source": [
    "predict_gs_rf = gs_rf.predict(X_test)\n",
    "\n",
    "print(f\"Mean Absolute Error: {mean_absolute_error(y_test, predict_gs_rf)}\")\n",
    "print(f\"Mean Squared Error: {mean_squared_error(y_test, predict_gs_rf)}\")\n",
    "print(f\"Test Score: {gs_rf.score(X_test, y_test)}\")\n",
    "print(f\"Train Score: {gs_rf.score(X_train, y_train)}\")"
   ]
  },
  {
   "cell_type": "code",
   "execution_count": 27,
   "metadata": {},
   "outputs": [
    {
     "data": {
      "text/plain": [
       "['model.pkl']"
      ]
     },
     "execution_count": 27,
     "metadata": {},
     "output_type": "execute_result"
    }
   ],
   "source": [
    "import joblib\n",
    "joblib.dump(lr, \"model.pkl\")"
   ]
  },
  {
   "cell_type": "code",
   "execution_count": null,
   "metadata": {},
   "outputs": [],
   "source": []
  }
 ],
 "metadata": {
  "kernelspec": {
   "display_name": "base",
   "language": "python",
   "name": "python3"
  },
  "language_info": {
   "codemirror_mode": {
    "name": "ipython",
    "version": 3
   },
   "file_extension": ".py",
   "mimetype": "text/x-python",
   "name": "python",
   "nbconvert_exporter": "python",
   "pygments_lexer": "ipython3",
   "version": "3.11.5"
  }
 },
 "nbformat": 4,
 "nbformat_minor": 2
}
