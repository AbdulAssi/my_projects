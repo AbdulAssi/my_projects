{
 "cells": [
  {
   "cell_type": "code",
   "execution_count": 1,
   "metadata": {},
   "outputs": [
    {
     "data": {
      "text/html": [
       "<div>\n",
       "<style scoped>\n",
       "    .dataframe tbody tr th:only-of-type {\n",
       "        vertical-align: middle;\n",
       "    }\n",
       "\n",
       "    .dataframe tbody tr th {\n",
       "        vertical-align: top;\n",
       "    }\n",
       "\n",
       "    .dataframe thead th {\n",
       "        text-align: right;\n",
       "    }\n",
       "</style>\n",
       "<table border=\"1\" class=\"dataframe\">\n",
       "  <thead>\n",
       "    <tr style=\"text-align: right;\">\n",
       "      <th></th>\n",
       "      <th>INDEX</th>\n",
       "      <th>COUNTRIES</th>\n",
       "      <th>UNIVERSITIES</th>\n",
       "      <th>FACULTIES</th>\n",
       "      <th>DEPARTMENTS</th>\n",
       "      <th>EXAM SCORE</th>\n",
       "      <th>GRANT</th>\n",
       "    </tr>\n",
       "  </thead>\n",
       "  <tbody>\n",
       "    <tr>\n",
       "      <th>0</th>\n",
       "      <td>1</td>\n",
       "      <td>ITALIA</td>\n",
       "      <td>UNIVERSITA DEGLI STUDI DI ROMA LA SAPIENZA</td>\n",
       "      <td>FACULTY OF ARTS AND SCIENCES</td>\n",
       "      <td>ENGLISH LANGUAGE AND LITERATURE</td>\n",
       "      <td>98.50</td>\n",
       "      <td>1</td>\n",
       "    </tr>\n",
       "    <tr>\n",
       "      <th>1</th>\n",
       "      <td>2</td>\n",
       "      <td>ITALIA</td>\n",
       "      <td>ALMA MATER STUDIORUM - UNIVERSITA DI BOLOGNA</td>\n",
       "      <td>FACULTY OF ARTS AND SCIENCES</td>\n",
       "      <td>SOCIOLOGY</td>\n",
       "      <td>97.10</td>\n",
       "      <td>1</td>\n",
       "    </tr>\n",
       "    <tr>\n",
       "      <th>2</th>\n",
       "      <td>3</td>\n",
       "      <td>GERMAN</td>\n",
       "      <td>UNIVERSITAET BIELEFELD</td>\n",
       "      <td>FACULTY OF ARTS AND SCIENCES</td>\n",
       "      <td>PSYCHOLOGY</td>\n",
       "      <td>96.80</td>\n",
       "      <td>1</td>\n",
       "    </tr>\n",
       "    <tr>\n",
       "      <th>3</th>\n",
       "      <td>4</td>\n",
       "      <td>GERMAN</td>\n",
       "      <td>HOCHSCHULE FUR ANGEWANDTE WISSENSCHAFTEN HAMBURG</td>\n",
       "      <td>FACULTY OF HEALTH SCIENCES</td>\n",
       "      <td>NUTRITION AND DIETETICS</td>\n",
       "      <td>96.50</td>\n",
       "      <td>1</td>\n",
       "    </tr>\n",
       "    <tr>\n",
       "      <th>4</th>\n",
       "      <td>5</td>\n",
       "      <td>ITALIA</td>\n",
       "      <td>UNIVERSITA DEGLI STUDI DI ROMA LA SAPIENZA</td>\n",
       "      <td>FACULTY OF ARTS AND SCIENCES</td>\n",
       "      <td>ENGLISH LANGUAGE AND LITERATURE</td>\n",
       "      <td>96.32</td>\n",
       "      <td>1</td>\n",
       "    </tr>\n",
       "  </tbody>\n",
       "</table>\n",
       "</div>"
      ],
      "text/plain": [
       "   INDEX COUNTRIES                                      UNIVERSITIES  \\\n",
       "0      1    ITALIA        UNIVERSITA DEGLI STUDI DI ROMA LA SAPIENZA   \n",
       "1      2    ITALIA      ALMA MATER STUDIORUM - UNIVERSITA DI BOLOGNA   \n",
       "2      3    GERMAN                            UNIVERSITAET BIELEFELD   \n",
       "3      4    GERMAN  HOCHSCHULE FUR ANGEWANDTE WISSENSCHAFTEN HAMBURG   \n",
       "4      5    ITALIA       UNIVERSITA DEGLI STUDI DI ROMA LA SAPIENZA    \n",
       "\n",
       "                      FACULTIES                      DEPARTMENTS  EXAM SCORE  \\\n",
       "0  FACULTY OF ARTS AND SCIENCES  ENGLISH LANGUAGE AND LITERATURE       98.50   \n",
       "1  FACULTY OF ARTS AND SCIENCES                        SOCIOLOGY       97.10   \n",
       "2  FACULTY OF ARTS AND SCIENCES                       PSYCHOLOGY       96.80   \n",
       "3    FACULTY OF HEALTH SCIENCES          NUTRITION AND DIETETICS       96.50   \n",
       "4  FACULTY OF ARTS AND SCIENCES  ENGLISH LANGUAGE AND LITERATURE       96.32   \n",
       "\n",
       "   GRANT  \n",
       "0      1  \n",
       "1      1  \n",
       "2      1  \n",
       "3      1  \n",
       "4      1  "
      ]
     },
     "execution_count": 1,
     "metadata": {},
     "output_type": "execute_result"
    }
   ],
   "source": [
    "import numpy as np\n",
    "import pandas as pd\n",
    "import seaborn as sns\n",
    "import matplotlib.pyplot as plt\n",
    "\n",
    "df = pd.read_csv(\"./data/Erasmus/erasmus.csv\")\n",
    "df.head()"
   ]
  },
  {
   "cell_type": "code",
   "execution_count": 2,
   "metadata": {},
   "outputs": [
    {
     "name": "stdout",
     "output_type": "stream",
     "text": [
      "<class 'pandas.core.frame.DataFrame'>\n",
      "RangeIndex: 341 entries, 0 to 340\n",
      "Data columns (total 7 columns):\n",
      " #   Column        Non-Null Count  Dtype  \n",
      "---  ------        --------------  -----  \n",
      " 0   INDEX         341 non-null    int64  \n",
      " 1   COUNTRIES     341 non-null    object \n",
      " 2   UNIVERSITIES  341 non-null    object \n",
      " 3   FACULTIES     341 non-null    object \n",
      " 4   DEPARTMENTS   339 non-null    object \n",
      " 5   EXAM SCORE    341 non-null    float64\n",
      " 6   GRANT         341 non-null    int64  \n",
      "dtypes: float64(1), int64(2), object(4)\n",
      "memory usage: 18.8+ KB\n"
     ]
    }
   ],
   "source": [
    "df.info()"
   ]
  },
  {
   "cell_type": "code",
   "execution_count": 3,
   "metadata": {},
   "outputs": [
    {
     "data": {
      "text/plain": [
       "INDEX           0\n",
       "COUNTRIES       0\n",
       "UNIVERSITIES    0\n",
       "FACULTIES       0\n",
       "DEPARTMENTS     2\n",
       "EXAM SCORE      0\n",
       "GRANT           0\n",
       "dtype: int64"
      ]
     },
     "execution_count": 3,
     "metadata": {},
     "output_type": "execute_result"
    }
   ],
   "source": [
    "df.isna().sum()"
   ]
  },
  {
   "cell_type": "code",
   "execution_count": 4,
   "metadata": {},
   "outputs": [
    {
     "data": {
      "text/plain": [
       "INDEX           0\n",
       "COUNTRIES       0\n",
       "UNIVERSITIES    0\n",
       "FACULTIES       0\n",
       "DEPARTMENTS     0\n",
       "EXAM SCORE      0\n",
       "GRANT           0\n",
       "dtype: int64"
      ]
     },
     "execution_count": 4,
     "metadata": {},
     "output_type": "execute_result"
    }
   ],
   "source": [
    "df.dropna(inplace=True)\n",
    "\n",
    "df.isna().sum()"
   ]
  },
  {
   "cell_type": "code",
   "execution_count": 5,
   "metadata": {},
   "outputs": [
    {
     "data": {
      "text/plain": [
       "0"
      ]
     },
     "execution_count": 5,
     "metadata": {},
     "output_type": "execute_result"
    }
   ],
   "source": [
    "df.duplicated().sum()"
   ]
  },
  {
   "cell_type": "code",
   "execution_count": 6,
   "metadata": {},
   "outputs": [
    {
     "name": "stdout",
     "output_type": "stream",
     "text": [
      "<class 'pandas.core.frame.DataFrame'>\n",
      "Index: 339 entries, 0 to 340\n",
      "Data columns (total 7 columns):\n",
      " #   Column        Non-Null Count  Dtype  \n",
      "---  ------        --------------  -----  \n",
      " 0   INDEX         339 non-null    int64  \n",
      " 1   COUNTRIES     339 non-null    object \n",
      " 2   UNIVERSITIES  339 non-null    object \n",
      " 3   FACULTIES     339 non-null    object \n",
      " 4   DEPARTMENTS   339 non-null    object \n",
      " 5   EXAM SCORE    339 non-null    float64\n",
      " 6   GRANT         339 non-null    int64  \n",
      "dtypes: float64(1), int64(2), object(4)\n",
      "memory usage: 21.2+ KB\n"
     ]
    }
   ],
   "source": [
    "df.info()"
   ]
  },
  {
   "cell_type": "code",
   "execution_count": 7,
   "metadata": {},
   "outputs": [
    {
     "data": {
      "text/html": [
       "<div>\n",
       "<style scoped>\n",
       "    .dataframe tbody tr th:only-of-type {\n",
       "        vertical-align: middle;\n",
       "    }\n",
       "\n",
       "    .dataframe tbody tr th {\n",
       "        vertical-align: top;\n",
       "    }\n",
       "\n",
       "    .dataframe thead th {\n",
       "        text-align: right;\n",
       "    }\n",
       "</style>\n",
       "<table border=\"1\" class=\"dataframe\">\n",
       "  <thead>\n",
       "    <tr style=\"text-align: right;\">\n",
       "      <th></th>\n",
       "      <th>INDEX</th>\n",
       "      <th>EXAM SCORE</th>\n",
       "      <th>GRANT</th>\n",
       "    </tr>\n",
       "  </thead>\n",
       "  <tbody>\n",
       "    <tr>\n",
       "      <th>count</th>\n",
       "      <td>339.000000</td>\n",
       "      <td>339.000000</td>\n",
       "      <td>339.000000</td>\n",
       "    </tr>\n",
       "    <tr>\n",
       "      <th>mean</th>\n",
       "      <td>170.643068</td>\n",
       "      <td>79.159853</td>\n",
       "      <td>0.436578</td>\n",
       "    </tr>\n",
       "    <tr>\n",
       "      <th>std</th>\n",
       "      <td>98.757156</td>\n",
       "      <td>8.585522</td>\n",
       "      <td>0.496694</td>\n",
       "    </tr>\n",
       "    <tr>\n",
       "      <th>min</th>\n",
       "      <td>1.000000</td>\n",
       "      <td>51.400000</td>\n",
       "      <td>0.000000</td>\n",
       "    </tr>\n",
       "    <tr>\n",
       "      <th>25%</th>\n",
       "      <td>85.500000</td>\n",
       "      <td>73.560000</td>\n",
       "      <td>0.000000</td>\n",
       "    </tr>\n",
       "    <tr>\n",
       "      <th>50%</th>\n",
       "      <td>170.000000</td>\n",
       "      <td>79.320000</td>\n",
       "      <td>0.000000</td>\n",
       "    </tr>\n",
       "    <tr>\n",
       "      <th>75%</th>\n",
       "      <td>256.500000</td>\n",
       "      <td>85.325000</td>\n",
       "      <td>1.000000</td>\n",
       "    </tr>\n",
       "    <tr>\n",
       "      <th>max</th>\n",
       "      <td>341.000000</td>\n",
       "      <td>98.500000</td>\n",
       "      <td>1.000000</td>\n",
       "    </tr>\n",
       "  </tbody>\n",
       "</table>\n",
       "</div>"
      ],
      "text/plain": [
       "            INDEX  EXAM SCORE       GRANT\n",
       "count  339.000000  339.000000  339.000000\n",
       "mean   170.643068   79.159853    0.436578\n",
       "std     98.757156    8.585522    0.496694\n",
       "min      1.000000   51.400000    0.000000\n",
       "25%     85.500000   73.560000    0.000000\n",
       "50%    170.000000   79.320000    0.000000\n",
       "75%    256.500000   85.325000    1.000000\n",
       "max    341.000000   98.500000    1.000000"
      ]
     },
     "execution_count": 7,
     "metadata": {},
     "output_type": "execute_result"
    }
   ],
   "source": [
    "df.describe()"
   ]
  },
  {
   "cell_type": "code",
   "execution_count": 8,
   "metadata": {},
   "outputs": [
    {
     "data": {
      "text/html": [
       "<div>\n",
       "<style scoped>\n",
       "    .dataframe tbody tr th:only-of-type {\n",
       "        vertical-align: middle;\n",
       "    }\n",
       "\n",
       "    .dataframe tbody tr th {\n",
       "        vertical-align: top;\n",
       "    }\n",
       "\n",
       "    .dataframe thead th {\n",
       "        text-align: right;\n",
       "    }\n",
       "</style>\n",
       "<table border=\"1\" class=\"dataframe\">\n",
       "  <thead>\n",
       "    <tr style=\"text-align: right;\">\n",
       "      <th></th>\n",
       "      <th>COUNTRIES</th>\n",
       "      <th>UNIVERSITIES</th>\n",
       "      <th>FACULTIES</th>\n",
       "      <th>DEPARTMENTS</th>\n",
       "      <th>EXAM SCORE</th>\n",
       "      <th>GRANT</th>\n",
       "    </tr>\n",
       "  </thead>\n",
       "  <tbody>\n",
       "    <tr>\n",
       "      <th>0</th>\n",
       "      <td>ITALIA</td>\n",
       "      <td>UNIVERSITA DEGLI STUDI DI ROMA LA SAPIENZA</td>\n",
       "      <td>FACULTY OF ARTS AND SCIENCES</td>\n",
       "      <td>ENGLISH LANGUAGE AND LITERATURE</td>\n",
       "      <td>98.50</td>\n",
       "      <td>1</td>\n",
       "    </tr>\n",
       "    <tr>\n",
       "      <th>1</th>\n",
       "      <td>ITALIA</td>\n",
       "      <td>ALMA MATER STUDIORUM - UNIVERSITA DI BOLOGNA</td>\n",
       "      <td>FACULTY OF ARTS AND SCIENCES</td>\n",
       "      <td>SOCIOLOGY</td>\n",
       "      <td>97.10</td>\n",
       "      <td>1</td>\n",
       "    </tr>\n",
       "    <tr>\n",
       "      <th>2</th>\n",
       "      <td>GERMAN</td>\n",
       "      <td>UNIVERSITAET BIELEFELD</td>\n",
       "      <td>FACULTY OF ARTS AND SCIENCES</td>\n",
       "      <td>PSYCHOLOGY</td>\n",
       "      <td>96.80</td>\n",
       "      <td>1</td>\n",
       "    </tr>\n",
       "    <tr>\n",
       "      <th>3</th>\n",
       "      <td>GERMAN</td>\n",
       "      <td>HOCHSCHULE FUR ANGEWANDTE WISSENSCHAFTEN HAMBURG</td>\n",
       "      <td>FACULTY OF HEALTH SCIENCES</td>\n",
       "      <td>NUTRITION AND DIETETICS</td>\n",
       "      <td>96.50</td>\n",
       "      <td>1</td>\n",
       "    </tr>\n",
       "    <tr>\n",
       "      <th>4</th>\n",
       "      <td>ITALIA</td>\n",
       "      <td>UNIVERSITA DEGLI STUDI DI ROMA LA SAPIENZA</td>\n",
       "      <td>FACULTY OF ARTS AND SCIENCES</td>\n",
       "      <td>ENGLISH LANGUAGE AND LITERATURE</td>\n",
       "      <td>96.32</td>\n",
       "      <td>1</td>\n",
       "    </tr>\n",
       "  </tbody>\n",
       "</table>\n",
       "</div>"
      ],
      "text/plain": [
       "  COUNTRIES                                      UNIVERSITIES  \\\n",
       "0    ITALIA        UNIVERSITA DEGLI STUDI DI ROMA LA SAPIENZA   \n",
       "1    ITALIA      ALMA MATER STUDIORUM - UNIVERSITA DI BOLOGNA   \n",
       "2    GERMAN                            UNIVERSITAET BIELEFELD   \n",
       "3    GERMAN  HOCHSCHULE FUR ANGEWANDTE WISSENSCHAFTEN HAMBURG   \n",
       "4    ITALIA       UNIVERSITA DEGLI STUDI DI ROMA LA SAPIENZA    \n",
       "\n",
       "                      FACULTIES                      DEPARTMENTS  EXAM SCORE  \\\n",
       "0  FACULTY OF ARTS AND SCIENCES  ENGLISH LANGUAGE AND LITERATURE       98.50   \n",
       "1  FACULTY OF ARTS AND SCIENCES                        SOCIOLOGY       97.10   \n",
       "2  FACULTY OF ARTS AND SCIENCES                       PSYCHOLOGY       96.80   \n",
       "3    FACULTY OF HEALTH SCIENCES          NUTRITION AND DIETETICS       96.50   \n",
       "4  FACULTY OF ARTS AND SCIENCES  ENGLISH LANGUAGE AND LITERATURE       96.32   \n",
       "\n",
       "   GRANT  \n",
       "0      1  \n",
       "1      1  \n",
       "2      1  \n",
       "3      1  \n",
       "4      1  "
      ]
     },
     "execution_count": 8,
     "metadata": {},
     "output_type": "execute_result"
    }
   ],
   "source": [
    "df.drop(columns=\"INDEX\", inplace=True)\n",
    "df.head()"
   ]
  },
  {
   "cell_type": "code",
   "execution_count": 9,
   "metadata": {},
   "outputs": [
    {
     "data": {
      "text/plain": [
       "Index(['COUNTRIES', 'UNIVERSITIES', 'FACULTIES', 'DEPARTMENTS', 'EXAM SCORE',\n",
       "       'GRANT'],\n",
       "      dtype='object')"
      ]
     },
     "execution_count": 9,
     "metadata": {},
     "output_type": "execute_result"
    }
   ],
   "source": [
    "df.columns"
   ]
  },
  {
   "cell_type": "code",
   "execution_count": 10,
   "metadata": {},
   "outputs": [
    {
     "data": {
      "text/html": [
       "<div>\n",
       "<style scoped>\n",
       "    .dataframe tbody tr th:only-of-type {\n",
       "        vertical-align: middle;\n",
       "    }\n",
       "\n",
       "    .dataframe tbody tr th {\n",
       "        vertical-align: top;\n",
       "    }\n",
       "\n",
       "    .dataframe thead th {\n",
       "        text-align: right;\n",
       "    }\n",
       "</style>\n",
       "<table border=\"1\" class=\"dataframe\">\n",
       "  <thead>\n",
       "    <tr style=\"text-align: right;\">\n",
       "      <th></th>\n",
       "      <th>Countries</th>\n",
       "      <th>Universities</th>\n",
       "      <th>Faculties</th>\n",
       "      <th>Departments</th>\n",
       "      <th>Exam score</th>\n",
       "      <th>Grant</th>\n",
       "    </tr>\n",
       "  </thead>\n",
       "  <tbody>\n",
       "    <tr>\n",
       "      <th>0</th>\n",
       "      <td>ITALIA</td>\n",
       "      <td>UNIVERSITA DEGLI STUDI DI ROMA LA SAPIENZA</td>\n",
       "      <td>FACULTY OF ARTS AND SCIENCES</td>\n",
       "      <td>ENGLISH LANGUAGE AND LITERATURE</td>\n",
       "      <td>98.50</td>\n",
       "      <td>1</td>\n",
       "    </tr>\n",
       "    <tr>\n",
       "      <th>1</th>\n",
       "      <td>ITALIA</td>\n",
       "      <td>ALMA MATER STUDIORUM - UNIVERSITA DI BOLOGNA</td>\n",
       "      <td>FACULTY OF ARTS AND SCIENCES</td>\n",
       "      <td>SOCIOLOGY</td>\n",
       "      <td>97.10</td>\n",
       "      <td>1</td>\n",
       "    </tr>\n",
       "    <tr>\n",
       "      <th>2</th>\n",
       "      <td>GERMAN</td>\n",
       "      <td>UNIVERSITAET BIELEFELD</td>\n",
       "      <td>FACULTY OF ARTS AND SCIENCES</td>\n",
       "      <td>PSYCHOLOGY</td>\n",
       "      <td>96.80</td>\n",
       "      <td>1</td>\n",
       "    </tr>\n",
       "    <tr>\n",
       "      <th>3</th>\n",
       "      <td>GERMAN</td>\n",
       "      <td>HOCHSCHULE FUR ANGEWANDTE WISSENSCHAFTEN HAMBURG</td>\n",
       "      <td>FACULTY OF HEALTH SCIENCES</td>\n",
       "      <td>NUTRITION AND DIETETICS</td>\n",
       "      <td>96.50</td>\n",
       "      <td>1</td>\n",
       "    </tr>\n",
       "    <tr>\n",
       "      <th>4</th>\n",
       "      <td>ITALIA</td>\n",
       "      <td>UNIVERSITA DEGLI STUDI DI ROMA LA SAPIENZA</td>\n",
       "      <td>FACULTY OF ARTS AND SCIENCES</td>\n",
       "      <td>ENGLISH LANGUAGE AND LITERATURE</td>\n",
       "      <td>96.32</td>\n",
       "      <td>1</td>\n",
       "    </tr>\n",
       "  </tbody>\n",
       "</table>\n",
       "</div>"
      ],
      "text/plain": [
       "  Countries                                      Universities  \\\n",
       "0    ITALIA        UNIVERSITA DEGLI STUDI DI ROMA LA SAPIENZA   \n",
       "1    ITALIA      ALMA MATER STUDIORUM - UNIVERSITA DI BOLOGNA   \n",
       "2    GERMAN                            UNIVERSITAET BIELEFELD   \n",
       "3    GERMAN  HOCHSCHULE FUR ANGEWANDTE WISSENSCHAFTEN HAMBURG   \n",
       "4    ITALIA       UNIVERSITA DEGLI STUDI DI ROMA LA SAPIENZA    \n",
       "\n",
       "                      Faculties                      Departments  Exam score  \\\n",
       "0  FACULTY OF ARTS AND SCIENCES  ENGLISH LANGUAGE AND LITERATURE       98.50   \n",
       "1  FACULTY OF ARTS AND SCIENCES                        SOCIOLOGY       97.10   \n",
       "2  FACULTY OF ARTS AND SCIENCES                       PSYCHOLOGY       96.80   \n",
       "3    FACULTY OF HEALTH SCIENCES          NUTRITION AND DIETETICS       96.50   \n",
       "4  FACULTY OF ARTS AND SCIENCES  ENGLISH LANGUAGE AND LITERATURE       96.32   \n",
       "\n",
       "   Grant  \n",
       "0      1  \n",
       "1      1  \n",
       "2      1  \n",
       "3      1  \n",
       "4      1  "
      ]
     },
     "execution_count": 10,
     "metadata": {},
     "output_type": "execute_result"
    }
   ],
   "source": [
    "new_columns_names = []\n",
    "\n",
    "for column in df.columns:\n",
    "    new_columns_names.append(column.capitalize())\n",
    "\n",
    "df.columns = new_columns_names\n",
    "df.head()"
   ]
  },
  {
   "cell_type": "code",
   "execution_count": 11,
   "metadata": {},
   "outputs": [
    {
     "data": {
      "text/plain": [
       "Grant\n",
       "0    191\n",
       "1    148\n",
       "Name: count, dtype: int64"
      ]
     },
     "execution_count": 11,
     "metadata": {},
     "output_type": "execute_result"
    }
   ],
   "source": [
    "df[\"Grant\"].value_counts()"
   ]
  },
  {
   "cell_type": "code",
   "execution_count": 12,
   "metadata": {},
   "outputs": [
    {
     "data": {
      "text/plain": [
       "Countries\n",
       "GERMAN            67\n",
       "DUTCH             62\n",
       "POLAND            45\n",
       "SPAIN             26\n",
       "ITALIA            24\n",
       "FRANCE            23\n",
       "BELGIUM           13\n",
       "AUSTRIA           13\n",
       "HUNGARY           11\n",
       "ROMANIA           10\n",
       "PORTUGUESE         7\n",
       "LITHUANIA          7\n",
       "GREECE             5\n",
       "DENMARK            5\n",
       "CZECH REPUBLIC     4\n",
       "SLOVENIA           3\n",
       "SWEDISH            3\n",
       "IRELAND            3\n",
       "FINLAND            3\n",
       "CROATIA            3\n",
       "BULGARIA           1\n",
       "NORWAY             1\n",
       "Name: count, dtype: int64"
      ]
     },
     "execution_count": 12,
     "metadata": {},
     "output_type": "execute_result"
    }
   ],
   "source": [
    "df[\"Countries\"].value_counts()"
   ]
  },
  {
   "cell_type": "code",
   "execution_count": 13,
   "metadata": {},
   "outputs": [
    {
     "data": {
      "text/plain": [
       "array(['ENGLISH LANGUAGE AND LITERATURE', 'SOCIOLOGY', 'PSYCHOLOGY',\n",
       "       'NUTRITION AND DIETETICS',\n",
       "       'POLITICAL SCIENCE AND INTERNATIONAL RELATIONS',\n",
       "       'TRANSLATION AND INTERPRETING STUDIES', 'TOURISM MANAGEMENT',\n",
       "       'ENGLISH LANGUAGE TEACHING', 'INTERNATIONAL TRADE AND BUSINESS',\n",
       "       'GRAPHIC DESIGN', 'BUSINESS ADMINISTRATION', 'HISTORY',\n",
       "       'COMPUTER ENGINEERING', 'LAW',\n",
       "       'POLITICAL SCIENCE AND INTERNATIONAL RELATIONS (FRENCH)',\n",
       "       'MECHANICAL ENGINEERING', 'E-COMMERCE MANAGEMENT', 'PHILOSOPHY',\n",
       "       'INDUSTRIAL ENGINEERING', 'MANAGEMENT INFORMATION SYSTEMS',\n",
       "       'MATHEMATICS', 'INFORMATION SYSTEMS AND TECHNOLOGIES',\n",
       "       'GENETICS AND BIOENGINEERING ', 'PUBLIC RELATIONS AND PUBLICITY',\n",
       "       'INTERIOR ARCHITECTURE', 'MEDICINE',\n",
       "       'INTERNATIONALES MANAGEMENT (DE)', 'PHARMACY', 'INDUSTRIAL DESIGN',\n",
       "       'PLASTIC ARTS AND PAINTING',\n",
       "       'GUIDANCE AND PSYCHOLOGICAL COUNSELING', 'ECONOMICS', 'PHYSICS',\n",
       "       'RADIO TELEVISION AND CINEMA',\n",
       "       'ELECTRICAL & ELECTRONICS ENGINEERING', 'BIOMEDICAL ENGINEERING',\n",
       "       'PHYSIOTHERAPY AND REHABILITATION', 'ARCHITECTURE',\n",
       "       'VISUAL COMMUNICATION AND DESIGN', 'CIVIL ENGINEERING',\n",
       "       'CHEMICAL ENGINEERING', 'INTERNATIONAL FINANCE', 'NURSING',\n",
       "       'FOOD ENGINEERING', 'JOURNALISM',\n",
       "       'ADVERTISING DESIGN AND COMMUNICATION', 'SOFTWARE DEVELOPMENT',\n",
       "       'PRICATE LAW', 'PUBLIC ADMINISTRATION',\n",
       "       'INFORMATION SECURITY TECHNOLOGY',\n",
       "       'URBAN DESIGN AND LANDSCAPE ARCHITECTURE',\n",
       "       'AGRICULTURAL TRADE AND MANAGEMENT', 'LOGISTICS MANAGEMENT',\n",
       "       'TEXTILE AND FASHION DESIGN', 'ELEMENTARY MATHEMATICS EDUCATION',\n",
       "       'SPECIAL EDUCATION TEACHING'], dtype=object)"
      ]
     },
     "execution_count": 13,
     "metadata": {},
     "output_type": "execute_result"
    }
   ],
   "source": [
    "df[\"Departments\"].unique()"
   ]
  },
  {
   "cell_type": "code",
   "execution_count": 14,
   "metadata": {},
   "outputs": [
    {
     "data": {
      "text/html": [
       "<div>\n",
       "<style scoped>\n",
       "    .dataframe tbody tr th:only-of-type {\n",
       "        vertical-align: middle;\n",
       "    }\n",
       "\n",
       "    .dataframe tbody tr th {\n",
       "        vertical-align: top;\n",
       "    }\n",
       "\n",
       "    .dataframe thead th {\n",
       "        text-align: right;\n",
       "    }\n",
       "</style>\n",
       "<table border=\"1\" class=\"dataframe\">\n",
       "  <thead>\n",
       "    <tr style=\"text-align: right;\">\n",
       "      <th></th>\n",
       "      <th>Countries</th>\n",
       "      <th>Universities</th>\n",
       "      <th>Faculties</th>\n",
       "      <th>Departments</th>\n",
       "      <th>Exam score</th>\n",
       "      <th>Grant</th>\n",
       "    </tr>\n",
       "  </thead>\n",
       "  <tbody>\n",
       "    <tr>\n",
       "      <th>0</th>\n",
       "      <td>Italia</td>\n",
       "      <td>Universita Degli Studi Di Roma La Sapienza</td>\n",
       "      <td>Faculty Of Arts And Sciences</td>\n",
       "      <td>English Language And Literature</td>\n",
       "      <td>98.50</td>\n",
       "      <td>1</td>\n",
       "    </tr>\n",
       "    <tr>\n",
       "      <th>1</th>\n",
       "      <td>Italia</td>\n",
       "      <td>Alma Mater Studiorum - Universita Di Bologna</td>\n",
       "      <td>Faculty Of Arts And Sciences</td>\n",
       "      <td>Sociology</td>\n",
       "      <td>97.10</td>\n",
       "      <td>1</td>\n",
       "    </tr>\n",
       "    <tr>\n",
       "      <th>2</th>\n",
       "      <td>German</td>\n",
       "      <td>Universitaet Bielefeld</td>\n",
       "      <td>Faculty Of Arts And Sciences</td>\n",
       "      <td>Psychology</td>\n",
       "      <td>96.80</td>\n",
       "      <td>1</td>\n",
       "    </tr>\n",
       "    <tr>\n",
       "      <th>3</th>\n",
       "      <td>German</td>\n",
       "      <td>Hochschule Fur Angewandte Wissenschaften Hamburg</td>\n",
       "      <td>Faculty Of Health Sciences</td>\n",
       "      <td>Nutrition And Dietetics</td>\n",
       "      <td>96.50</td>\n",
       "      <td>1</td>\n",
       "    </tr>\n",
       "    <tr>\n",
       "      <th>4</th>\n",
       "      <td>Italia</td>\n",
       "      <td>Universita Degli Studi Di Roma La Sapienza</td>\n",
       "      <td>Faculty Of Arts And Sciences</td>\n",
       "      <td>English Language And Literature</td>\n",
       "      <td>96.32</td>\n",
       "      <td>1</td>\n",
       "    </tr>\n",
       "  </tbody>\n",
       "</table>\n",
       "</div>"
      ],
      "text/plain": [
       "  Countries                                      Universities  \\\n",
       "0    Italia        Universita Degli Studi Di Roma La Sapienza   \n",
       "1    Italia      Alma Mater Studiorum - Universita Di Bologna   \n",
       "2    German                            Universitaet Bielefeld   \n",
       "3    German  Hochschule Fur Angewandte Wissenschaften Hamburg   \n",
       "4    Italia       Universita Degli Studi Di Roma La Sapienza    \n",
       "\n",
       "                      Faculties                      Departments  Exam score  \\\n",
       "0  Faculty Of Arts And Sciences  English Language And Literature       98.50   \n",
       "1  Faculty Of Arts And Sciences                        Sociology       97.10   \n",
       "2  Faculty Of Arts And Sciences                       Psychology       96.80   \n",
       "3    Faculty Of Health Sciences          Nutrition And Dietetics       96.50   \n",
       "4  Faculty Of Arts And Sciences  English Language And Literature       96.32   \n",
       "\n",
       "   Grant  \n",
       "0      1  \n",
       "1      1  \n",
       "2      1  \n",
       "3      1  \n",
       "4      1  "
      ]
     },
     "execution_count": 14,
     "metadata": {},
     "output_type": "execute_result"
    }
   ],
   "source": [
    "df[\"Countries\"] = df[\"Countries\"].apply(lambda x: x.capitalize())\n",
    "df[\"Universities\"] = df[\"Universities\"].apply(lambda x: x.title())\n",
    "df[\"Faculties\"] = df[\"Faculties\"].apply(lambda x: x.title())\n",
    "df[\"Departments\"] = df[\"Departments\"].apply(lambda x: x.title())\n",
    "\n",
    "df.head()"
   ]
  },
  {
   "cell_type": "code",
   "execution_count": 15,
   "metadata": {},
   "outputs": [
    {
     "data": {
      "text/html": [
       "<div>\n",
       "<style scoped>\n",
       "    .dataframe tbody tr th:only-of-type {\n",
       "        vertical-align: middle;\n",
       "    }\n",
       "\n",
       "    .dataframe tbody tr th {\n",
       "        vertical-align: top;\n",
       "    }\n",
       "\n",
       "    .dataframe thead th {\n",
       "        text-align: right;\n",
       "    }\n",
       "</style>\n",
       "<table border=\"1\" class=\"dataframe\">\n",
       "  <thead>\n",
       "    <tr style=\"text-align: right;\">\n",
       "      <th></th>\n",
       "      <th>Countries</th>\n",
       "      <th>Universities</th>\n",
       "      <th>Faculties</th>\n",
       "      <th>Departments</th>\n",
       "      <th>Exam score</th>\n",
       "      <th>Grant</th>\n",
       "    </tr>\n",
       "  </thead>\n",
       "  <tbody>\n",
       "    <tr>\n",
       "      <th>336</th>\n",
       "      <td>Dutch</td>\n",
       "      <td>Universiteit Maastricht</td>\n",
       "      <td>Faculty Of Economics And Administrative Sciences</td>\n",
       "      <td>Political Science And International Relations</td>\n",
       "      <td>62.13</td>\n",
       "      <td>0</td>\n",
       "    </tr>\n",
       "    <tr>\n",
       "      <th>337</th>\n",
       "      <td>Poland</td>\n",
       "      <td>Kujawsko - Pomorska Szkola Wyzsza W Bydgoszczy</td>\n",
       "      <td>Faculty Of Engineering</td>\n",
       "      <td>Civil Engineering</td>\n",
       "      <td>61.63</td>\n",
       "      <td>0</td>\n",
       "    </tr>\n",
       "    <tr>\n",
       "      <th>338</th>\n",
       "      <td>Belgium</td>\n",
       "      <td>Hogeschool Gent</td>\n",
       "      <td>Faculty Of Economics And Administrative Sciences</td>\n",
       "      <td>International Finance</td>\n",
       "      <td>59.93</td>\n",
       "      <td>0</td>\n",
       "    </tr>\n",
       "    <tr>\n",
       "      <th>339</th>\n",
       "      <td>Dutch</td>\n",
       "      <td>Sti̇chti̇ng Hanzehogeschool Groni̇ngen</td>\n",
       "      <td>Faculty Of Communication</td>\n",
       "      <td>Advertising Design And Communication</td>\n",
       "      <td>56.58</td>\n",
       "      <td>0</td>\n",
       "    </tr>\n",
       "    <tr>\n",
       "      <th>340</th>\n",
       "      <td>German</td>\n",
       "      <td>Julius-Maximilians-Universitat Wurzburg</td>\n",
       "      <td>Faculty Of Medicine</td>\n",
       "      <td>Medicine</td>\n",
       "      <td>51.40</td>\n",
       "      <td>0</td>\n",
       "    </tr>\n",
       "  </tbody>\n",
       "</table>\n",
       "</div>"
      ],
      "text/plain": [
       "    Countries                                    Universities  \\\n",
       "336     Dutch                         Universiteit Maastricht   \n",
       "337    Poland  Kujawsko - Pomorska Szkola Wyzsza W Bydgoszczy   \n",
       "338   Belgium                                 Hogeschool Gent   \n",
       "339     Dutch          Sti̇chti̇ng Hanzehogeschool Groni̇ngen   \n",
       "340    German         Julius-Maximilians-Universitat Wurzburg   \n",
       "\n",
       "                                            Faculties  \\\n",
       "336  Faculty Of Economics And Administrative Sciences   \n",
       "337                            Faculty Of Engineering   \n",
       "338  Faculty Of Economics And Administrative Sciences   \n",
       "339                          Faculty Of Communication   \n",
       "340                               Faculty Of Medicine   \n",
       "\n",
       "                                       Departments  Exam score  Grant  \n",
       "336  Political Science And International Relations       62.13      0  \n",
       "337                              Civil Engineering       61.63      0  \n",
       "338                          International Finance       59.93      0  \n",
       "339           Advertising Design And Communication       56.58      0  \n",
       "340                                       Medicine       51.40      0  "
      ]
     },
     "execution_count": 15,
     "metadata": {},
     "output_type": "execute_result"
    }
   ],
   "source": [
    "df.tail()"
   ]
  },
  {
   "cell_type": "code",
   "execution_count": 16,
   "metadata": {},
   "outputs": [
    {
     "data": {
      "text/plain": [
       "Countries\n",
       "Ireland           93.276667\n",
       "Bulgaria          91.500000\n",
       "Finland           88.443333\n",
       "Swedish           85.970000\n",
       "Greece            83.954000\n",
       "Lithuania         83.297143\n",
       "Slovenia          82.626667\n",
       "France            81.274783\n",
       "Italia            80.934583\n",
       "Spain             79.515000\n",
       "Dutch             79.455161\n",
       "German            78.954030\n",
       "Denmark           78.830000\n",
       "Poland            77.913111\n",
       "Romania           77.770000\n",
       "Belgium           76.869231\n",
       "Austria           76.702308\n",
       "Hungary           76.640909\n",
       "Norway            74.770000\n",
       "Portuguese        73.864286\n",
       "Czech republic    72.192500\n",
       "Croatia           65.533333\n",
       "Name: Exam score, dtype: float64"
      ]
     },
     "execution_count": 16,
     "metadata": {},
     "output_type": "execute_result"
    }
   ],
   "source": [
    "df.groupby([\"Countries\"])[\"Exam score\"].mean().sort_values(ascending=False)"
   ]
  },
  {
   "cell_type": "code",
   "execution_count": 17,
   "metadata": {},
   "outputs": [
    {
     "data": {
      "image/png": "[encoded data removed]",
      "text/plain": [
       "<Figure size 1200x600 with 1 Axes>"
      ]
     },
     "metadata": {},
     "output_type": "display_data"
    }
   ],
   "source": [
    "plt.figure(figsize=(12, 6))\n",
    "df.groupby([\"Countries\"])[\"Exam score\"].mean().sort_values(ascending=False).plot(kind=\"bar\")\n",
    "plt.xlabel(\"Countries\")\n",
    "plt.xticks(rotation=45)\n",
    "plt.title(\"Exam Score Average by Countries\")\n",
    "plt.show()"
   ]
  },
  {
   "cell_type": "code",
   "execution_count": 18,
   "metadata": {},
   "outputs": [
    {
     "data": {
      "image/png": "[encoded data removed]",
      "text/plain": [
       "<Figure size 1200x600 with 1 Axes>"
      ]
     },
     "metadata": {},
     "output_type": "display_data"
    }
   ],
   "source": [
    "plt.figure(figsize=(12, 6))\n",
    "df.groupby([\"Countries\"])[\"Exam score\"].mean().sort_values(ascending=False).plot(kind=\"pie\")\n",
    "plt.xlabel(\"Countries\")\n",
    "plt.xticks(rotation=45)\n",
    "plt.ylabel(\"\")\n",
    "plt.title(\"Exam Score Average by Countries\")\n",
    "plt.show()"
   ]
  },
  {
   "cell_type": "code",
   "execution_count": 19,
   "metadata": {},
   "outputs": [
    {
     "data": {
      "text/plain": [
       "Countries   Universities                                   \n",
       "Italia      Universita Degli Studi Di Roma La Sapienza         96.32\n",
       "France      Institut D'Etudes Politiques D'Aix-En-Provence     96.15\n",
       "Greece      Ethniko Kai Kapodistriako Panepistimio Athinon     95.52\n",
       "Spain       Universidad Autonoma De Barcelona                  95.13\n",
       "            Universitat De Barcelona                           94.18\n",
       "                                                               ...  \n",
       "Hungary     Magyar Agrar- Es Elettudomanyi Egyetem             64.75\n",
       "Portuguese  Universidade De Tras-Os-Montes E Alto Douro        63.87\n",
       "German      Westfaelische Wilhelms-Universitaet Muenster       63.63\n",
       "France      Institut D'Etudes Politiques De Toulouse           63.23\n",
       "Hungary     Mi̇lton Fri̇edman Egyetem                          62.50\n",
       "Name: Exam score, Length: 132, dtype: float64"
      ]
     },
     "execution_count": 19,
     "metadata": {},
     "output_type": "execute_result"
    }
   ],
   "source": [
    "df.groupby([\"Countries\", \"Universities\"])[\"Exam score\"].mean().sort_values(ascending=False)"
   ]
  },
  {
   "cell_type": "code",
   "execution_count": 20,
   "metadata": {},
   "outputs": [
    {
     "data": {
      "text/html": [
       "<div>\n",
       "<style scoped>\n",
       "    .dataframe tbody tr th:only-of-type {\n",
       "        vertical-align: middle;\n",
       "    }\n",
       "\n",
       "    .dataframe tbody tr th {\n",
       "        vertical-align: top;\n",
       "    }\n",
       "\n",
       "    .dataframe thead th {\n",
       "        text-align: right;\n",
       "    }\n",
       "</style>\n",
       "<table border=\"1\" class=\"dataframe\">\n",
       "  <thead>\n",
       "    <tr style=\"text-align: right;\">\n",
       "      <th></th>\n",
       "      <th></th>\n",
       "      <th>avg_score</th>\n",
       "    </tr>\n",
       "    <tr>\n",
       "      <th>Countries</th>\n",
       "      <th>Universities</th>\n",
       "      <th></th>\n",
       "    </tr>\n",
       "  </thead>\n",
       "  <tbody>\n",
       "    <tr>\n",
       "      <th rowspan=\"5\" valign=\"top\">Austria</th>\n",
       "      <th>Fachhochschule Des Bfi Wien Gmbh</th>\n",
       "      <td>66.270000</td>\n",
       "    </tr>\n",
       "    <tr>\n",
       "      <th>Fh Oo Studienbetriebs Gmbh</th>\n",
       "      <td>91.130000</td>\n",
       "    </tr>\n",
       "    <tr>\n",
       "      <th>Universitaet Graz</th>\n",
       "      <td>84.334000</td>\n",
       "    </tr>\n",
       "    <tr>\n",
       "      <th>Universitaet Innsbruck</th>\n",
       "      <td>66.973333</td>\n",
       "    </tr>\n",
       "    <tr>\n",
       "      <th>Universitaet Klagenfurt</th>\n",
       "      <td>72.380000</td>\n",
       "    </tr>\n",
       "    <tr>\n",
       "      <th>...</th>\n",
       "      <th>...</th>\n",
       "      <td>...</td>\n",
       "    </tr>\n",
       "    <tr>\n",
       "      <th rowspan=\"4\" valign=\"top\">Spain</th>\n",
       "      <th>Universidad Pontificia Comillas</th>\n",
       "      <td>68.210000</td>\n",
       "    </tr>\n",
       "    <tr>\n",
       "      <th>Universidade Da Coruna</th>\n",
       "      <td>80.512500</td>\n",
       "    </tr>\n",
       "    <tr>\n",
       "      <th>Universitat De Barcelona</th>\n",
       "      <td>94.180000</td>\n",
       "    </tr>\n",
       "    <tr>\n",
       "      <th>Universitat Politecnica De Catalunya</th>\n",
       "      <td>76.843333</td>\n",
       "    </tr>\n",
       "    <tr>\n",
       "      <th>Swedish</th>\n",
       "      <th>Umea Universitet</th>\n",
       "      <td>85.970000</td>\n",
       "    </tr>\n",
       "  </tbody>\n",
       "</table>\n",
       "<p>132 rows × 1 columns</p>\n",
       "</div>"
      ],
      "text/plain": [
       "                                                avg_score\n",
       "Countries Universities                                   \n",
       "Austria   Fachhochschule Des Bfi Wien Gmbh      66.270000\n",
       "          Fh Oo Studienbetriebs Gmbh            91.130000\n",
       "          Universitaet Graz                     84.334000\n",
       "          Universitaet Innsbruck                66.973333\n",
       "          Universitaet Klagenfurt               72.380000\n",
       "...                                                   ...\n",
       "Spain     Universidad Pontificia Comillas       68.210000\n",
       "          Universidade Da Coruna                80.512500\n",
       "          Universitat De Barcelona              94.180000\n",
       "          Universitat Politecnica De Catalunya  76.843333\n",
       "Swedish   Umea Universitet                      85.970000\n",
       "\n",
       "[132 rows x 1 columns]"
      ]
     },
     "execution_count": 20,
     "metadata": {},
     "output_type": "execute_result"
    }
   ],
   "source": [
    "df_grouped = df.groupby([\"Countries\", \"Universities\"]).agg(avg_score = (\"Exam score\", np.mean))\n",
    "df_grouped"
   ]
  },
  {
   "cell_type": "code",
   "execution_count": 21,
   "metadata": {},
   "outputs": [
    {
     "data": {
      "text/plain": [
       "Universities                                     Faculties                                       \n",
       "Universita Degli Studi Di Roma La Sapienza       Faculty Of Arts And Sciences                        96.32\n",
       "Institut D'Etudes Politiques D'Aix-En-Provence   Faculty Of Economics And Administrative Sciences    96.15\n",
       "Ethniko Kai Kapodistriako Panepistimio Athinon   Faculty Of Arts And Sciences                        95.52\n",
       "Universidad Autonoma De Barcelona                Faculty Of Arts And Sciences                        95.13\n",
       "Universitat De Barcelona                         Faculty Of Arts And Sciences                        94.18\n",
       "                                                                                                     ...  \n",
       "Institut D'Etudes Politiques De Toulouse         Faculty Of Economics And Administrative Sciences    63.23\n",
       "Stichting Christelijke Hogeschool Windesheim     Faculty Of Economics And Administrative Sciences    62.73\n",
       "Mi̇lton Fri̇edman Egyetem                        Faculty Of Economics And Administrative Sciences    62.50\n",
       "Kujawsko - Pomorska Szkola Wyzsza W Bydgoszczy   Faculty Of Engineering                              61.63\n",
       "Julius-Maximilians-Universitat Wurzburg          Faculty Of Medicine                                 51.40\n",
       "Name: Exam score, Length: 183, dtype: float64"
      ]
     },
     "execution_count": 21,
     "metadata": {},
     "output_type": "execute_result"
    }
   ],
   "source": [
    "df.groupby([\"Universities\", \"Faculties\"])[\"Exam score\"].mean().sort_values(ascending=False)"
   ]
  },
  {
   "cell_type": "code",
   "execution_count": 22,
   "metadata": {},
   "outputs": [
    {
     "data": {
      "text/html": [
       "<div>\n",
       "<style scoped>\n",
       "    .dataframe tbody tr th:only-of-type {\n",
       "        vertical-align: middle;\n",
       "    }\n",
       "\n",
       "    .dataframe tbody tr th {\n",
       "        vertical-align: top;\n",
       "    }\n",
       "\n",
       "    .dataframe thead th {\n",
       "        text-align: right;\n",
       "    }\n",
       "</style>\n",
       "<table border=\"1\" class=\"dataframe\">\n",
       "  <thead>\n",
       "    <tr style=\"text-align: right;\">\n",
       "      <th></th>\n",
       "      <th>Countries</th>\n",
       "      <th>Universities</th>\n",
       "      <th>Faculties</th>\n",
       "      <th>Departments</th>\n",
       "      <th>Exam score</th>\n",
       "      <th>Grant</th>\n",
       "    </tr>\n",
       "  </thead>\n",
       "  <tbody>\n",
       "    <tr>\n",
       "      <th>28</th>\n",
       "      <td>Austria</td>\n",
       "      <td>Fh Oo Studienbetriebs Gmbh</td>\n",
       "      <td>Faculty Of Engineering</td>\n",
       "      <td>Computer Engineering</td>\n",
       "      <td>91.13</td>\n",
       "      <td>1</td>\n",
       "    </tr>\n",
       "    <tr>\n",
       "      <th>39</th>\n",
       "      <td>Austria</td>\n",
       "      <td>Universitaet Graz</td>\n",
       "      <td>Faculty Of Computer And Information Sciences</td>\n",
       "      <td>Management Information Systems</td>\n",
       "      <td>89.38</td>\n",
       "      <td>1</td>\n",
       "    </tr>\n",
       "    <tr>\n",
       "      <th>51</th>\n",
       "      <td>Austria</td>\n",
       "      <td>Universitaet Graz</td>\n",
       "      <td>Faculty Of Economics And Administrative Sciences</td>\n",
       "      <td>Internationales Management (De)</td>\n",
       "      <td>88.34</td>\n",
       "      <td>1</td>\n",
       "    </tr>\n",
       "    <tr>\n",
       "      <th>77</th>\n",
       "      <td>Austria</td>\n",
       "      <td>Universitaet Graz</td>\n",
       "      <td>Faculty Of Computer And Information Sciences</td>\n",
       "      <td>Management Information Systems</td>\n",
       "      <td>85.92</td>\n",
       "      <td>1</td>\n",
       "    </tr>\n",
       "    <tr>\n",
       "      <th>155</th>\n",
       "      <td>Austria</td>\n",
       "      <td>Universitaet Graz</td>\n",
       "      <td>Faculty Of Computer And Information Sciences</td>\n",
       "      <td>Management Information Systems</td>\n",
       "      <td>80.33</td>\n",
       "      <td>0</td>\n",
       "    </tr>\n",
       "    <tr>\n",
       "      <th>199</th>\n",
       "      <td>Austria</td>\n",
       "      <td>Universitaet Graz</td>\n",
       "      <td>Faculty Of Economics And Administrative Sciences</td>\n",
       "      <td>Business Administration</td>\n",
       "      <td>77.70</td>\n",
       "      <td>0</td>\n",
       "    </tr>\n",
       "    <tr>\n",
       "      <th>251</th>\n",
       "      <td>Austria</td>\n",
       "      <td>Universitaet Klagenfurt</td>\n",
       "      <td>Faculty Of Arts And Sciences</td>\n",
       "      <td>Psychology</td>\n",
       "      <td>73.88</td>\n",
       "      <td>0</td>\n",
       "    </tr>\n",
       "    <tr>\n",
       "      <th>267</th>\n",
       "      <td>Austria</td>\n",
       "      <td>Universitaet Innsbruck</td>\n",
       "      <td>Faculty Of Arts And Sciences</td>\n",
       "      <td>History</td>\n",
       "      <td>72.47</td>\n",
       "      <td>0</td>\n",
       "    </tr>\n",
       "    <tr>\n",
       "      <th>270</th>\n",
       "      <td>Austria</td>\n",
       "      <td>Universitaet Klagenfurt</td>\n",
       "      <td>Faculty Of Arts And Sciences</td>\n",
       "      <td>Psychology</td>\n",
       "      <td>72.28</td>\n",
       "      <td>0</td>\n",
       "    </tr>\n",
       "    <tr>\n",
       "      <th>284</th>\n",
       "      <td>Austria</td>\n",
       "      <td>Universitaet Klagenfurt</td>\n",
       "      <td>Faculty Of Arts And Sciences</td>\n",
       "      <td>Psychology</td>\n",
       "      <td>70.98</td>\n",
       "      <td>0</td>\n",
       "    </tr>\n",
       "    <tr>\n",
       "      <th>308</th>\n",
       "      <td>Austria</td>\n",
       "      <td>Fachhochschule Des Bfi Wien Gmbh</td>\n",
       "      <td>Faculty Of Economics And Administrative Sciences</td>\n",
       "      <td>International Trade And Business</td>\n",
       "      <td>66.27</td>\n",
       "      <td>0</td>\n",
       "    </tr>\n",
       "    <tr>\n",
       "      <th>317</th>\n",
       "      <td>Austria</td>\n",
       "      <td>Universitaet Innsbruck</td>\n",
       "      <td>Faculty Of Economics And Administrative Sciences</td>\n",
       "      <td>Business Administration</td>\n",
       "      <td>64.25</td>\n",
       "      <td>0</td>\n",
       "    </tr>\n",
       "    <tr>\n",
       "      <th>319</th>\n",
       "      <td>Austria</td>\n",
       "      <td>Universitaet Innsbruck</td>\n",
       "      <td>Faculty Of Economics And Administrative Sciences</td>\n",
       "      <td>Business Administration</td>\n",
       "      <td>64.20</td>\n",
       "      <td>0</td>\n",
       "    </tr>\n",
       "  </tbody>\n",
       "</table>\n",
       "</div>"
      ],
      "text/plain": [
       "    Countries                      Universities  \\\n",
       "28    Austria        Fh Oo Studienbetriebs Gmbh   \n",
       "39    Austria                 Universitaet Graz   \n",
       "51    Austria                 Universitaet Graz   \n",
       "77    Austria                 Universitaet Graz   \n",
       "155   Austria                 Universitaet Graz   \n",
       "199   Austria                 Universitaet Graz   \n",
       "251   Austria           Universitaet Klagenfurt   \n",
       "267   Austria            Universitaet Innsbruck   \n",
       "270   Austria           Universitaet Klagenfurt   \n",
       "284   Austria           Universitaet Klagenfurt   \n",
       "308   Austria  Fachhochschule Des Bfi Wien Gmbh   \n",
       "317   Austria            Universitaet Innsbruck   \n",
       "319   Austria            Universitaet Innsbruck   \n",
       "\n",
       "                                            Faculties  \\\n",
       "28                             Faculty Of Engineering   \n",
       "39       Faculty Of Computer And Information Sciences   \n",
       "51   Faculty Of Economics And Administrative Sciences   \n",
       "77       Faculty Of Computer And Information Sciences   \n",
       "155      Faculty Of Computer And Information Sciences   \n",
       "199  Faculty Of Economics And Administrative Sciences   \n",
       "251                      Faculty Of Arts And Sciences   \n",
       "267                      Faculty Of Arts And Sciences   \n",
       "270                      Faculty Of Arts And Sciences   \n",
       "284                      Faculty Of Arts And Sciences   \n",
       "308  Faculty Of Economics And Administrative Sciences   \n",
       "317  Faculty Of Economics And Administrative Sciences   \n",
       "319  Faculty Of Economics And Administrative Sciences   \n",
       "\n",
       "                          Departments  Exam score  Grant  \n",
       "28               Computer Engineering       91.13      1  \n",
       "39     Management Information Systems       89.38      1  \n",
       "51    Internationales Management (De)       88.34      1  \n",
       "77     Management Information Systems       85.92      1  \n",
       "155    Management Information Systems       80.33      0  \n",
       "199           Business Administration       77.70      0  \n",
       "251                        Psychology       73.88      0  \n",
       "267                           History       72.47      0  \n",
       "270                        Psychology       72.28      0  \n",
       "284                        Psychology       70.98      0  \n",
       "308  International Trade And Business       66.27      0  \n",
       "317           Business Administration       64.25      0  \n",
       "319           Business Administration       64.20      0  "
      ]
     },
     "execution_count": 22,
     "metadata": {},
     "output_type": "execute_result"
    }
   ],
   "source": [
    "df[df[\"Countries\"] == \"Austria\"]"
   ]
  },
  {
   "cell_type": "code",
   "execution_count": 23,
   "metadata": {},
   "outputs": [
    {
     "data": {
      "text/html": [
       "<div>\n",
       "<style scoped>\n",
       "    .dataframe tbody tr th:only-of-type {\n",
       "        vertical-align: middle;\n",
       "    }\n",
       "\n",
       "    .dataframe tbody tr th {\n",
       "        vertical-align: top;\n",
       "    }\n",
       "\n",
       "    .dataframe thead th {\n",
       "        text-align: right;\n",
       "    }\n",
       "</style>\n",
       "<table border=\"1\" class=\"dataframe\">\n",
       "  <thead>\n",
       "    <tr style=\"text-align: right;\">\n",
       "      <th></th>\n",
       "      <th>Countries</th>\n",
       "      <th>Universities</th>\n",
       "      <th>Faculties</th>\n",
       "      <th>Departments</th>\n",
       "      <th>Exam score</th>\n",
       "      <th>Grant</th>\n",
       "    </tr>\n",
       "  </thead>\n",
       "  <tbody>\n",
       "    <tr>\n",
       "      <th>0</th>\n",
       "      <td>Italia</td>\n",
       "      <td>Universita Degli Studi Di Roma La Sapienza</td>\n",
       "      <td>Faculty Of Arts And Sciences</td>\n",
       "      <td>English Language And Literature</td>\n",
       "      <td>98.50</td>\n",
       "      <td>1</td>\n",
       "    </tr>\n",
       "    <tr>\n",
       "      <th>1</th>\n",
       "      <td>Italia</td>\n",
       "      <td>Alma Mater Studiorum - Universita Di Bologna</td>\n",
       "      <td>Faculty Of Arts And Sciences</td>\n",
       "      <td>Sociology</td>\n",
       "      <td>97.10</td>\n",
       "      <td>1</td>\n",
       "    </tr>\n",
       "    <tr>\n",
       "      <th>2</th>\n",
       "      <td>German</td>\n",
       "      <td>Universitaet Bielefeld</td>\n",
       "      <td>Faculty Of Arts And Sciences</td>\n",
       "      <td>Psychology</td>\n",
       "      <td>96.80</td>\n",
       "      <td>1</td>\n",
       "    </tr>\n",
       "    <tr>\n",
       "      <th>3</th>\n",
       "      <td>German</td>\n",
       "      <td>Hochschule Fur Angewandte Wissenschaften Hamburg</td>\n",
       "      <td>Faculty Of Health Sciences</td>\n",
       "      <td>Nutrition And Dietetics</td>\n",
       "      <td>96.50</td>\n",
       "      <td>1</td>\n",
       "    </tr>\n",
       "    <tr>\n",
       "      <th>4</th>\n",
       "      <td>Italia</td>\n",
       "      <td>Universita Degli Studi Di Roma La Sapienza</td>\n",
       "      <td>Faculty Of Arts And Sciences</td>\n",
       "      <td>English Language And Literature</td>\n",
       "      <td>96.32</td>\n",
       "      <td>1</td>\n",
       "    </tr>\n",
       "  </tbody>\n",
       "</table>\n",
       "</div>"
      ],
      "text/plain": [
       "  Countries                                      Universities  \\\n",
       "0    Italia        Universita Degli Studi Di Roma La Sapienza   \n",
       "1    Italia      Alma Mater Studiorum - Universita Di Bologna   \n",
       "2    German                            Universitaet Bielefeld   \n",
       "3    German  Hochschule Fur Angewandte Wissenschaften Hamburg   \n",
       "4    Italia       Universita Degli Studi Di Roma La Sapienza    \n",
       "\n",
       "                      Faculties                      Departments  Exam score  \\\n",
       "0  Faculty Of Arts And Sciences  English Language And Literature       98.50   \n",
       "1  Faculty Of Arts And Sciences                        Sociology       97.10   \n",
       "2  Faculty Of Arts And Sciences                       Psychology       96.80   \n",
       "3    Faculty Of Health Sciences          Nutrition And Dietetics       96.50   \n",
       "4  Faculty Of Arts And Sciences  English Language And Literature       96.32   \n",
       "\n",
       "   Grant  \n",
       "0      1  \n",
       "1      1  \n",
       "2      1  \n",
       "3      1  \n",
       "4      1  "
      ]
     },
     "execution_count": 23,
     "metadata": {},
     "output_type": "execute_result"
    }
   ],
   "source": [
    "df.head()"
   ]
  },
  {
   "cell_type": "code",
   "execution_count": 24,
   "metadata": {},
   "outputs": [
    {
     "data": {
      "text/html": [
       "<div>\n",
       "<style scoped>\n",
       "    .dataframe tbody tr th:only-of-type {\n",
       "        vertical-align: middle;\n",
       "    }\n",
       "\n",
       "    .dataframe tbody tr th {\n",
       "        vertical-align: top;\n",
       "    }\n",
       "\n",
       "    .dataframe thead th {\n",
       "        text-align: right;\n",
       "    }\n",
       "</style>\n",
       "<table border=\"1\" class=\"dataframe\">\n",
       "  <thead>\n",
       "    <tr style=\"text-align: right;\">\n",
       "      <th></th>\n",
       "      <th>Countries</th>\n",
       "      <th>Universities</th>\n",
       "      <th>Faculties</th>\n",
       "      <th>Departments</th>\n",
       "      <th>Exam score</th>\n",
       "      <th>Grant</th>\n",
       "    </tr>\n",
       "  </thead>\n",
       "  <tbody>\n",
       "    <tr>\n",
       "      <th>0</th>\n",
       "      <td>13</td>\n",
       "      <td>87</td>\n",
       "      <td>2</td>\n",
       "      <td>12</td>\n",
       "      <td>98.50</td>\n",
       "      <td>1</td>\n",
       "    </tr>\n",
       "    <tr>\n",
       "      <th>1</th>\n",
       "      <td>13</td>\n",
       "      <td>4</td>\n",
       "      <td>2</td>\n",
       "      <td>48</td>\n",
       "      <td>97.10</td>\n",
       "      <td>1</td>\n",
       "    </tr>\n",
       "    <tr>\n",
       "      <th>2</th>\n",
       "      <td>9</td>\n",
       "      <td>91</td>\n",
       "      <td>2</td>\n",
       "      <td>44</td>\n",
       "      <td>96.80</td>\n",
       "      <td>1</td>\n",
       "    </tr>\n",
       "    <tr>\n",
       "      <th>3</th>\n",
       "      <td>9</td>\n",
       "      <td>28</td>\n",
       "      <td>8</td>\n",
       "      <td>35</td>\n",
       "      <td>96.50</td>\n",
       "      <td>1</td>\n",
       "    </tr>\n",
       "    <tr>\n",
       "      <th>4</th>\n",
       "      <td>13</td>\n",
       "      <td>88</td>\n",
       "      <td>2</td>\n",
       "      <td>12</td>\n",
       "      <td>96.32</td>\n",
       "      <td>1</td>\n",
       "    </tr>\n",
       "  </tbody>\n",
       "</table>\n",
       "</div>"
      ],
      "text/plain": [
       "   Countries  Universities  Faculties  Departments  Exam score  Grant\n",
       "0         13            87          2           12       98.50      1\n",
       "1         13             4          2           48       97.10      1\n",
       "2          9            91          2           44       96.80      1\n",
       "3          9            28          8           35       96.50      1\n",
       "4         13            88          2           12       96.32      1"
      ]
     },
     "execution_count": 24,
     "metadata": {},
     "output_type": "execute_result"
    }
   ],
   "source": [
    "from sklearn.preprocessing import LabelEncoder\n",
    "\n",
    "le = LabelEncoder()\n",
    "\n",
    "df[\"Countries\"] = le.fit_transform(df[\"Countries\"])\n",
    "df[\"Universities\"] = le.fit_transform(df[\"Universities\"])\n",
    "df[\"Faculties\"] = le.fit_transform(df[\"Faculties\"])\n",
    "df[\"Departments\"] = le.fit_transform(df[\"Departments\"])\n",
    "\n",
    "df.head()"
   ]
  },
  {
   "cell_type": "code",
   "execution_count": 25,
   "metadata": {},
   "outputs": [
    {
     "data": {
      "text/html": [
       "<div>\n",
       "<style scoped>\n",
       "    .dataframe tbody tr th:only-of-type {\n",
       "        vertical-align: middle;\n",
       "    }\n",
       "\n",
       "    .dataframe tbody tr th {\n",
       "        vertical-align: top;\n",
       "    }\n",
       "\n",
       "    .dataframe thead th {\n",
       "        text-align: right;\n",
       "    }\n",
       "</style>\n",
       "<table border=\"1\" class=\"dataframe\">\n",
       "  <thead>\n",
       "    <tr style=\"text-align: right;\">\n",
       "      <th></th>\n",
       "      <th>Countries</th>\n",
       "      <th>Universities</th>\n",
       "      <th>Faculties</th>\n",
       "      <th>Departments</th>\n",
       "      <th>Exam score</th>\n",
       "      <th>Grant</th>\n",
       "    </tr>\n",
       "  </thead>\n",
       "  <tbody>\n",
       "    <tr>\n",
       "      <th>Grant</th>\n",
       "      <td>0.047061</td>\n",
       "      <td>0.027027</td>\n",
       "      <td>0.049529</td>\n",
       "      <td>0.065847</td>\n",
       "      <td>0.719974</td>\n",
       "      <td>1.000000</td>\n",
       "    </tr>\n",
       "    <tr>\n",
       "      <th>Exam score</th>\n",
       "      <td>0.043562</td>\n",
       "      <td>0.038947</td>\n",
       "      <td>-0.075245</td>\n",
       "      <td>0.010662</td>\n",
       "      <td>1.000000</td>\n",
       "      <td>0.719974</td>\n",
       "    </tr>\n",
       "    <tr>\n",
       "      <th>Departments</th>\n",
       "      <td>0.036112</td>\n",
       "      <td>0.017804</td>\n",
       "      <td>-0.112846</td>\n",
       "      <td>1.000000</td>\n",
       "      <td>0.010662</td>\n",
       "      <td>0.065847</td>\n",
       "    </tr>\n",
       "    <tr>\n",
       "      <th>Faculties</th>\n",
       "      <td>0.084135</td>\n",
       "      <td>-0.093042</td>\n",
       "      <td>1.000000</td>\n",
       "      <td>-0.112846</td>\n",
       "      <td>-0.075245</td>\n",
       "      <td>0.049529</td>\n",
       "    </tr>\n",
       "    <tr>\n",
       "      <th>Countries</th>\n",
       "      <td>1.000000</td>\n",
       "      <td>0.081430</td>\n",
       "      <td>0.084135</td>\n",
       "      <td>0.036112</td>\n",
       "      <td>0.043562</td>\n",
       "      <td>0.047061</td>\n",
       "    </tr>\n",
       "    <tr>\n",
       "      <th>Universities</th>\n",
       "      <td>0.081430</td>\n",
       "      <td>1.000000</td>\n",
       "      <td>-0.093042</td>\n",
       "      <td>0.017804</td>\n",
       "      <td>0.038947</td>\n",
       "      <td>0.027027</td>\n",
       "    </tr>\n",
       "  </tbody>\n",
       "</table>\n",
       "</div>"
      ],
      "text/plain": [
       "              Countries  Universities  Faculties  Departments  Exam score  \\\n",
       "Grant          0.047061      0.027027   0.049529     0.065847    0.719974   \n",
       "Exam score     0.043562      0.038947  -0.075245     0.010662    1.000000   \n",
       "Departments    0.036112      0.017804  -0.112846     1.000000    0.010662   \n",
       "Faculties      0.084135     -0.093042   1.000000    -0.112846   -0.075245   \n",
       "Countries      1.000000      0.081430   0.084135     0.036112    0.043562   \n",
       "Universities   0.081430      1.000000  -0.093042     0.017804    0.038947   \n",
       "\n",
       "                 Grant  \n",
       "Grant         1.000000  \n",
       "Exam score    0.719974  \n",
       "Departments   0.065847  \n",
       "Faculties     0.049529  \n",
       "Countries     0.047061  \n",
       "Universities  0.027027  "
      ]
     },
     "execution_count": 25,
     "metadata": {},
     "output_type": "execute_result"
    }
   ],
   "source": [
    "correlation = df.corr(numeric_only=True).sort_values(by=\"Grant\", ascending=False)\n",
    "correlation"
   ]
  },
  {
   "cell_type": "code",
   "execution_count": 26,
   "metadata": {},
   "outputs": [
    {
     "data": {
      "text/plain": [
       "<Axes: >"
      ]
     },
     "execution_count": 26,
     "metadata": {},
     "output_type": "execute_result"
    },
    {
     "data": {
      "image/png": "[encoded data removed]",
      "text/plain": [
       "<Figure size 640x480 with 2 Axes>"
      ]
     },
     "metadata": {},
     "output_type": "display_data"
    }
   ],
   "source": [
    "sns.heatmap(correlation, annot=True)"
   ]
  },
  {
   "cell_type": "code",
   "execution_count": 27,
   "metadata": {},
   "outputs": [
    {
     "data": {
      "image/png": "[encoded data removed]",
      "text/plain": [
       "<Figure size 640x480 with 1 Axes>"
      ]
     },
     "metadata": {},
     "output_type": "display_data"
    }
   ],
   "source": [
    "plt.scatter(df[\"Exam score\"], df[\"Grant\"])\n",
    "plt.xlabel(\"Exam score\")\n",
    "plt.ylabel(\"Grant\")\n",
    "plt.show()"
   ]
  },
  {
   "cell_type": "code",
   "execution_count": 28,
   "metadata": {},
   "outputs": [],
   "source": [
    "from sklearn.model_selection import train_test_split\n",
    "from sklearn.preprocessing import StandardScaler\n",
    "\n",
    "X = df[[\"Exam score\", \"Departments\"]]\n",
    "y = df[\"Grant\"]\n",
    "\n",
    "sc = StandardScaler()\n",
    "\n",
    "X_train, X_test, y_train, y_test = train_test_split(X, y, test_size=0.2, random_state=42)\n",
    "\n",
    "X_train_scaled = sc.fit_transform(X_train)\n",
    "X_test_scaled = sc.fit_transform(X_test)"
   ]
  },
  {
   "cell_type": "code",
   "execution_count": 29,
   "metadata": {},
   "outputs": [
    {
     "data": {
      "text/plain": [
       "['scaler.pkl']"
      ]
     },
     "execution_count": 29,
     "metadata": {},
     "output_type": "execute_result"
    }
   ],
   "source": [
    "import joblib\n",
    "joblib.dump(sc, \"scaler.pkl\")"
   ]
  },
  {
   "cell_type": "code",
   "execution_count": 30,
   "metadata": {},
   "outputs": [
    {
     "data": {
      "text/plain": [
       "array([0, 1, 1, 1, 1, 0, 0, 0, 0, 1, 1, 0, 0, 0, 1, 0, 1, 0, 0, 1, 0, 1,\n",
       "       0, 1, 1, 1, 1, 0, 0, 0, 0, 1, 1, 0, 1, 1, 0, 0, 1, 1, 1, 1, 0, 0,\n",
       "       1, 0, 0, 0, 1, 1, 0, 0, 0, 1, 1, 0, 1, 0, 0, 1, 0, 0, 0, 0, 0, 1,\n",
       "       1, 1], dtype=int64)"
      ]
     },
     "execution_count": 30,
     "metadata": {},
     "output_type": "execute_result"
    }
   ],
   "source": [
    "from sklearn.linear_model import LogisticRegression\n",
    "\n",
    "lg = LogisticRegression()\n",
    "\n",
    "lg.fit(X_train_scaled, y_train)\n",
    "\n",
    "predict_lg = lg.predict(X_test_scaled)\n",
    "predict_lg"
   ]
  },
  {
   "cell_type": "code",
   "execution_count": 31,
   "metadata": {},
   "outputs": [
    {
     "name": "stdout",
     "output_type": "stream",
     "text": [
      "Logistic Regression Training Score: 0.8745387453874539\n",
      "Logistic Regression Testing Score: 0.8823529411764706\n"
     ]
    }
   ],
   "source": [
    "print(f\"Logistic Regression Training Score: {lg.score(X_train_scaled, y_train)}\")\n",
    "print(f\"Logistic Regression Testing Score: {lg.score(X_test_scaled, y_test)}\")"
   ]
  },
  {
   "cell_type": "code",
   "execution_count": 32,
   "metadata": {},
   "outputs": [
    {
     "data": {
      "text/plain": [
       "array([0, 1, 1, 1, 0, 0, 0, 0, 0, 1, 0, 0, 0, 1, 1, 0, 1, 0, 0, 1, 0, 1,\n",
       "       0, 1, 1, 1, 1, 0, 1, 0, 1, 1, 1, 0, 1, 1, 0, 0, 1, 1, 1, 1, 0, 0,\n",
       "       1, 0, 0, 0, 1, 1, 0, 0, 0, 1, 1, 0, 1, 0, 0, 1, 0, 0, 0, 0, 0, 1,\n",
       "       1, 1], dtype=int64)"
      ]
     },
     "execution_count": 32,
     "metadata": {},
     "output_type": "execute_result"
    }
   ],
   "source": [
    "from sklearn.svm import SVC\n",
    "from sklearn.model_selection import GridSearchCV\n",
    "\n",
    "svc = SVC()\n",
    "\n",
    "svc.fit(X_train_scaled, y_train)\n",
    "\n",
    "predict_svc = svc.predict(X_test_scaled)\n",
    "predict_svc"
   ]
  },
  {
   "cell_type": "code",
   "execution_count": 33,
   "metadata": {},
   "outputs": [
    {
     "name": "stdout",
     "output_type": "stream",
     "text": [
      "SVC Training Score: 0.8782287822878229\n",
      "SVC Testing Score: 0.8382352941176471\n"
     ]
    }
   ],
   "source": [
    "print(f\"SVC Training Score: {svc.score(X_train_scaled, y_train)}\")\n",
    "print(f\"SVC Testing Score: {svc.score(X_test_scaled, y_test)}\")"
   ]
  },
  {
   "cell_type": "code",
   "execution_count": 34,
   "metadata": {},
   "outputs": [
    {
     "data": {
      "text/html": [
       "<style>#sk-container-id-1 {color: black;}#sk-container-id-1 pre{padding: 0;}#sk-container-id-1 div.sk-toggleable {background-color: white;}#sk-container-id-1 label.sk-toggleable__label {cursor: pointer;display: block;width: 100%;margin-bottom: 0;padding: 0.3em;box-sizing: border-box;text-align: center;}#sk-container-id-1 label.sk-toggleable__label-arrow:before {content: \"▸\";float: left;margin-right: 0.25em;color: #696969;}#sk-container-id-1 label.sk-toggleable__label-arrow:hover:before {color: black;}#sk-container-id-1 div.sk-estimator:hover label.sk-toggleable__label-arrow:before {color: black;}#sk-container-id-1 div.sk-toggleable__content {max-height: 0;max-width: 0;overflow: hidden;text-align: left;background-color: #f0f8ff;}#sk-container-id-1 div.sk-toggleable__content pre {margin: 0.2em;color: black;border-radius: 0.25em;background-color: #f0f8ff;}#sk-container-id-1 input.sk-toggleable__control:checked~div.sk-toggleable__content {max-height: 200px;max-width: 100%;overflow: auto;}#sk-container-id-1 input.sk-toggleable__control:checked~label.sk-toggleable__label-arrow:before {content: \"▾\";}#sk-container-id-1 div.sk-estimator input.sk-toggleable__control:checked~label.sk-toggleable__label {background-color: #d4ebff;}#sk-container-id-1 div.sk-label input.sk-toggleable__control:checked~label.sk-toggleable__label {background-color: #d4ebff;}#sk-container-id-1 input.sk-hidden--visually {border: 0;clip: rect(1px 1px 1px 1px);clip: rect(1px, 1px, 1px, 1px);height: 1px;margin: -1px;overflow: hidden;padding: 0;position: absolute;width: 1px;}#sk-container-id-1 div.sk-estimator {font-family: monospace;background-color: #f0f8ff;border: 1px dotted black;border-radius: 0.25em;box-sizing: border-box;margin-bottom: 0.5em;}#sk-container-id-1 div.sk-estimator:hover {background-color: #d4ebff;}#sk-container-id-1 div.sk-parallel-item::after {content: \"\";width: 100%;border-bottom: 1px solid gray;flex-grow: 1;}#sk-container-id-1 div.sk-label:hover label.sk-toggleable__label {background-color: #d4ebff;}#sk-container-id-1 div.sk-serial::before {content: \"\";position: absolute;border-left: 1px solid gray;box-sizing: border-box;top: 0;bottom: 0;left: 50%;z-index: 0;}#sk-container-id-1 div.sk-serial {display: flex;flex-direction: column;align-items: center;background-color: white;padding-right: 0.2em;padding-left: 0.2em;position: relative;}#sk-container-id-1 div.sk-item {position: relative;z-index: 1;}#sk-container-id-1 div.sk-parallel {display: flex;align-items: stretch;justify-content: center;background-color: white;position: relative;}#sk-container-id-1 div.sk-item::before, #sk-container-id-1 div.sk-parallel-item::before {content: \"\";position: absolute;border-left: 1px solid gray;box-sizing: border-box;top: 0;bottom: 0;left: 50%;z-index: -1;}#sk-container-id-1 div.sk-parallel-item {display: flex;flex-direction: column;z-index: 1;position: relative;background-color: white;}#sk-container-id-1 div.sk-parallel-item:first-child::after {align-self: flex-end;width: 50%;}#sk-container-id-1 div.sk-parallel-item:last-child::after {align-self: flex-start;width: 50%;}#sk-container-id-1 div.sk-parallel-item:only-child::after {width: 0;}#sk-container-id-1 div.sk-dashed-wrapped {border: 1px dashed gray;margin: 0 0.4em 0.5em 0.4em;box-sizing: border-box;padding-bottom: 0.4em;background-color: white;}#sk-container-id-1 div.sk-label label {font-family: monospace;font-weight: bold;display: inline-block;line-height: 1.2em;}#sk-container-id-1 div.sk-label-container {text-align: center;}#sk-container-id-1 div.sk-container {/* jupyter's `normalize.less` sets `[hidden] { display: none; }` but bootstrap.min.css set `[hidden] { display: none !important; }` so we also need the `!important` here to be able to override the default hidden behavior on the sphinx rendered scikit-learn.org. See: https://github.com/scikit-learn/scikit-learn/issues/21755 */display: inline-block !important;position: relative;}#sk-container-id-1 div.sk-text-repr-fallback {display: none;}</style><div id=\"sk-container-id-1\" class=\"sk-top-container\"><div class=\"sk-text-repr-fallback\"><pre>GridSearchCV(estimator=SVC(),\n",
       "             param_grid={&#x27;C&#x27;: [0.01, 0.1, 1],\n",
       "                         &#x27;kernel&#x27;: [&#x27;linear&#x27;, &#x27;poly&#x27;, &#x27;rbf&#x27;]})</pre><b>In a Jupyter environment, please rerun this cell to show the HTML representation or trust the notebook. <br />On GitHub, the HTML representation is unable to render, please try loading this page with nbviewer.org.</b></div><div class=\"sk-container\" hidden><div class=\"sk-item sk-dashed-wrapped\"><div class=\"sk-label-container\"><div class=\"sk-label sk-toggleable\"><input class=\"sk-toggleable__control sk-hidden--visually\" id=\"sk-estimator-id-1\" type=\"checkbox\" ><label for=\"sk-estimator-id-1\" class=\"sk-toggleable__label sk-toggleable__label-arrow\">GridSearchCV</label><div class=\"sk-toggleable__content\"><pre>GridSearchCV(estimator=SVC(),\n",
       "             param_grid={&#x27;C&#x27;: [0.01, 0.1, 1],\n",
       "                         &#x27;kernel&#x27;: [&#x27;linear&#x27;, &#x27;poly&#x27;, &#x27;rbf&#x27;]})</pre></div></div></div><div class=\"sk-parallel\"><div class=\"sk-parallel-item\"><div class=\"sk-item\"><div class=\"sk-label-container\"><div class=\"sk-label sk-toggleable\"><input class=\"sk-toggleable__control sk-hidden--visually\" id=\"sk-estimator-id-2\" type=\"checkbox\" ><label for=\"sk-estimator-id-2\" class=\"sk-toggleable__label sk-toggleable__label-arrow\">estimator: SVC</label><div class=\"sk-toggleable__content\"><pre>SVC()</pre></div></div></div><div class=\"sk-serial\"><div class=\"sk-item\"><div class=\"sk-estimator sk-toggleable\"><input class=\"sk-toggleable__control sk-hidden--visually\" id=\"sk-estimator-id-3\" type=\"checkbox\" ><label for=\"sk-estimator-id-3\" class=\"sk-toggleable__label sk-toggleable__label-arrow\">SVC</label><div class=\"sk-toggleable__content\"><pre>SVC()</pre></div></div></div></div></div></div></div></div></div></div>"
      ],
      "text/plain": [
       "GridSearchCV(estimator=SVC(),\n",
       "             param_grid={'C': [0.01, 0.1, 1],\n",
       "                         'kernel': ['linear', 'poly', 'rbf']})"
      ]
     },
     "execution_count": 34,
     "metadata": {},
     "output_type": "execute_result"
    }
   ],
   "source": [
    "svc_params = {\"C\": [0.01, 0.1, 1],\n",
    "              \"kernel\": [\"linear\", \"poly\", \"rbf\"]}\n",
    "\n",
    "gs_svc = GridSearchCV(estimator=svc, param_grid=svc_params)\n",
    "\n",
    "gs_svc.fit(X_train_scaled, y_train)"
   ]
  },
  {
   "cell_type": "code",
   "execution_count": 35,
   "metadata": {},
   "outputs": [
    {
     "data": {
      "text/plain": [
       "{'C': 0.1, 'kernel': 'rbf'}"
      ]
     },
     "execution_count": 35,
     "metadata": {},
     "output_type": "execute_result"
    }
   ],
   "source": [
    "gs_svc.best_params_"
   ]
  },
  {
   "cell_type": "code",
   "execution_count": 36,
   "metadata": {},
   "outputs": [
    {
     "data": {
      "text/plain": [
       "array([0, 1, 1, 1, 0, 0, 0, 0, 0, 1, 0, 0, 0, 1, 1, 0, 0, 0, 0, 1, 0, 1,\n",
       "       0, 1, 1, 1, 1, 0, 0, 0, 0, 1, 1, 0, 1, 1, 0, 0, 1, 1, 1, 1, 0, 0,\n",
       "       1, 0, 0, 0, 1, 1, 0, 0, 0, 1, 1, 0, 1, 0, 0, 1, 0, 0, 0, 0, 0, 1,\n",
       "       1, 1], dtype=int64)"
      ]
     },
     "execution_count": 36,
     "metadata": {},
     "output_type": "execute_result"
    }
   ],
   "source": [
    "predict_gs_svc = gs_svc.predict(X_test_scaled)\n",
    "predict_gs_svc"
   ]
  },
  {
   "cell_type": "code",
   "execution_count": 37,
   "metadata": {},
   "outputs": [
    {
     "name": "stdout",
     "output_type": "stream",
     "text": [
      "GS_SVC Training Score: 0.8856088560885609\n",
      "GS_SVC Testing Score: 0.8235294117647058\n"
     ]
    }
   ],
   "source": [
    "print(f\"GS_SVC Training Score: {gs_svc.score(X_train_scaled, y_train)}\")\n",
    "print(f\"GS_SVC Testing Score: {gs_svc.score(X_test_scaled, y_test)}\")"
   ]
  },
  {
   "cell_type": "code",
   "execution_count": 38,
   "metadata": {},
   "outputs": [
    {
     "data": {
      "text/plain": [
       "array([0, 1, 1, 1, 1, 1, 0, 0, 0, 1, 1, 0, 0, 0, 0, 1, 1, 0, 0, 1, 0, 1,\n",
       "       1, 1, 1, 1, 0, 0, 0, 0, 0, 1, 0, 0, 1, 1, 0, 0, 0, 1, 1, 1, 0, 1,\n",
       "       1, 0, 0, 0, 1, 1, 0, 0, 0, 1, 1, 0, 1, 0, 0, 1, 1, 0, 0, 1, 0, 1,\n",
       "       1, 1], dtype=int64)"
      ]
     },
     "execution_count": 38,
     "metadata": {},
     "output_type": "execute_result"
    }
   ],
   "source": [
    "from sklearn.tree import DecisionTreeClassifier\n",
    "\n",
    "tree = DecisionTreeClassifier()\n",
    "\n",
    "tree.fit(X_train, y_train)\n",
    "\n",
    "predict_tree = tree.predict(X_test)\n",
    "predict_tree"
   ]
  },
  {
   "cell_type": "code",
   "execution_count": 39,
   "metadata": {},
   "outputs": [
    {
     "name": "stdout",
     "output_type": "stream",
     "text": [
      "Decision Tree Training Score: 1.0\n",
      "Decision Tree Score: 0.8235294117647058\n"
     ]
    }
   ],
   "source": [
    "print(f\"Decision Tree Training Score: {tree.score(X_train, y_train)}\")\n",
    "print(f\"Decision Tree Score: {tree.score(X_test, y_test)}\")"
   ]
  },
  {
   "cell_type": "code",
   "execution_count": 40,
   "metadata": {},
   "outputs": [
    {
     "data": {
      "text/html": [
       "<style>#sk-container-id-2 {color: black;}#sk-container-id-2 pre{padding: 0;}#sk-container-id-2 div.sk-toggleable {background-color: white;}#sk-container-id-2 label.sk-toggleable__label {cursor: pointer;display: block;width: 100%;margin-bottom: 0;padding: 0.3em;box-sizing: border-box;text-align: center;}#sk-container-id-2 label.sk-toggleable__label-arrow:before {content: \"▸\";float: left;margin-right: 0.25em;color: #696969;}#sk-container-id-2 label.sk-toggleable__label-arrow:hover:before {color: black;}#sk-container-id-2 div.sk-estimator:hover label.sk-toggleable__label-arrow:before {color: black;}#sk-container-id-2 div.sk-toggleable__content {max-height: 0;max-width: 0;overflow: hidden;text-align: left;background-color: #f0f8ff;}#sk-container-id-2 div.sk-toggleable__content pre {margin: 0.2em;color: black;border-radius: 0.25em;background-color: #f0f8ff;}#sk-container-id-2 input.sk-toggleable__control:checked~div.sk-toggleable__content {max-height: 200px;max-width: 100%;overflow: auto;}#sk-container-id-2 input.sk-toggleable__control:checked~label.sk-toggleable__label-arrow:before {content: \"▾\";}#sk-container-id-2 div.sk-estimator input.sk-toggleable__control:checked~label.sk-toggleable__label {background-color: #d4ebff;}#sk-container-id-2 div.sk-label input.sk-toggleable__control:checked~label.sk-toggleable__label {background-color: #d4ebff;}#sk-container-id-2 input.sk-hidden--visually {border: 0;clip: rect(1px 1px 1px 1px);clip: rect(1px, 1px, 1px, 1px);height: 1px;margin: -1px;overflow: hidden;padding: 0;position: absolute;width: 1px;}#sk-container-id-2 div.sk-estimator {font-family: monospace;background-color: #f0f8ff;border: 1px dotted black;border-radius: 0.25em;box-sizing: border-box;margin-bottom: 0.5em;}#sk-container-id-2 div.sk-estimator:hover {background-color: #d4ebff;}#sk-container-id-2 div.sk-parallel-item::after {content: \"\";width: 100%;border-bottom: 1px solid gray;flex-grow: 1;}#sk-container-id-2 div.sk-label:hover label.sk-toggleable__label {background-color: #d4ebff;}#sk-container-id-2 div.sk-serial::before {content: \"\";position: absolute;border-left: 1px solid gray;box-sizing: border-box;top: 0;bottom: 0;left: 50%;z-index: 0;}#sk-container-id-2 div.sk-serial {display: flex;flex-direction: column;align-items: center;background-color: white;padding-right: 0.2em;padding-left: 0.2em;position: relative;}#sk-container-id-2 div.sk-item {position: relative;z-index: 1;}#sk-container-id-2 div.sk-parallel {display: flex;align-items: stretch;justify-content: center;background-color: white;position: relative;}#sk-container-id-2 div.sk-item::before, #sk-container-id-2 div.sk-parallel-item::before {content: \"\";position: absolute;border-left: 1px solid gray;box-sizing: border-box;top: 0;bottom: 0;left: 50%;z-index: -1;}#sk-container-id-2 div.sk-parallel-item {display: flex;flex-direction: column;z-index: 1;position: relative;background-color: white;}#sk-container-id-2 div.sk-parallel-item:first-child::after {align-self: flex-end;width: 50%;}#sk-container-id-2 div.sk-parallel-item:last-child::after {align-self: flex-start;width: 50%;}#sk-container-id-2 div.sk-parallel-item:only-child::after {width: 0;}#sk-container-id-2 div.sk-dashed-wrapped {border: 1px dashed gray;margin: 0 0.4em 0.5em 0.4em;box-sizing: border-box;padding-bottom: 0.4em;background-color: white;}#sk-container-id-2 div.sk-label label {font-family: monospace;font-weight: bold;display: inline-block;line-height: 1.2em;}#sk-container-id-2 div.sk-label-container {text-align: center;}#sk-container-id-2 div.sk-container {/* jupyter's `normalize.less` sets `[hidden] { display: none; }` but bootstrap.min.css set `[hidden] { display: none !important; }` so we also need the `!important` here to be able to override the default hidden behavior on the sphinx rendered scikit-learn.org. See: https://github.com/scikit-learn/scikit-learn/issues/21755 */display: inline-block !important;position: relative;}#sk-container-id-2 div.sk-text-repr-fallback {display: none;}</style><div id=\"sk-container-id-2\" class=\"sk-top-container\"><div class=\"sk-text-repr-fallback\"><pre>GridSearchCV(estimator=DecisionTreeClassifier(),\n",
       "             param_grid={&#x27;min_samples_leaf&#x27;: [1, 2, 3],\n",
       "                         &#x27;min_samples_split&#x27;: [2, 4, 6]})</pre><b>In a Jupyter environment, please rerun this cell to show the HTML representation or trust the notebook. <br />On GitHub, the HTML representation is unable to render, please try loading this page with nbviewer.org.</b></div><div class=\"sk-container\" hidden><div class=\"sk-item sk-dashed-wrapped\"><div class=\"sk-label-container\"><div class=\"sk-label sk-toggleable\"><input class=\"sk-toggleable__control sk-hidden--visually\" id=\"sk-estimator-id-4\" type=\"checkbox\" ><label for=\"sk-estimator-id-4\" class=\"sk-toggleable__label sk-toggleable__label-arrow\">GridSearchCV</label><div class=\"sk-toggleable__content\"><pre>GridSearchCV(estimator=DecisionTreeClassifier(),\n",
       "             param_grid={&#x27;min_samples_leaf&#x27;: [1, 2, 3],\n",
       "                         &#x27;min_samples_split&#x27;: [2, 4, 6]})</pre></div></div></div><div class=\"sk-parallel\"><div class=\"sk-parallel-item\"><div class=\"sk-item\"><div class=\"sk-label-container\"><div class=\"sk-label sk-toggleable\"><input class=\"sk-toggleable__control sk-hidden--visually\" id=\"sk-estimator-id-5\" type=\"checkbox\" ><label for=\"sk-estimator-id-5\" class=\"sk-toggleable__label sk-toggleable__label-arrow\">estimator: DecisionTreeClassifier</label><div class=\"sk-toggleable__content\"><pre>DecisionTreeClassifier()</pre></div></div></div><div class=\"sk-serial\"><div class=\"sk-item\"><div class=\"sk-estimator sk-toggleable\"><input class=\"sk-toggleable__control sk-hidden--visually\" id=\"sk-estimator-id-6\" type=\"checkbox\" ><label for=\"sk-estimator-id-6\" class=\"sk-toggleable__label sk-toggleable__label-arrow\">DecisionTreeClassifier</label><div class=\"sk-toggleable__content\"><pre>DecisionTreeClassifier()</pre></div></div></div></div></div></div></div></div></div></div>"
      ],
      "text/plain": [
       "GridSearchCV(estimator=DecisionTreeClassifier(),\n",
       "             param_grid={'min_samples_leaf': [1, 2, 3],\n",
       "                         'min_samples_split': [2, 4, 6]})"
      ]
     },
     "execution_count": 40,
     "metadata": {},
     "output_type": "execute_result"
    }
   ],
   "source": [
    "tree_params = {\"min_samples_split\": [2, 4, 6],\n",
    "              \"min_samples_leaf\": [1, 2, 3]}\n",
    "\n",
    "gs_tree = GridSearchCV(estimator=tree, param_grid=tree_params)\n",
    "\n",
    "gs_tree.fit(X_train, y_train)"
   ]
  },
  {
   "cell_type": "code",
   "execution_count": 41,
   "metadata": {},
   "outputs": [
    {
     "data": {
      "text/plain": [
       "{'min_samples_leaf': 2, 'min_samples_split': 2}"
      ]
     },
     "execution_count": 41,
     "metadata": {},
     "output_type": "execute_result"
    }
   ],
   "source": [
    "gs_tree.best_params_"
   ]
  },
  {
   "cell_type": "code",
   "execution_count": 42,
   "metadata": {},
   "outputs": [
    {
     "data": {
      "text/plain": [
       "array([0, 1, 0, 1, 1, 1, 0, 0, 0, 1, 0, 0, 0, 0, 0, 1, 1, 0, 0, 1, 0, 1,\n",
       "       1, 1, 1, 1, 0, 0, 0, 0, 0, 1, 0, 0, 1, 1, 0, 0, 0, 1, 1, 1, 0, 1,\n",
       "       1, 0, 0, 0, 1, 1, 0, 0, 0, 1, 1, 0, 1, 0, 0, 1, 0, 0, 0, 1, 0, 1,\n",
       "       1, 1], dtype=int64)"
      ]
     },
     "execution_count": 42,
     "metadata": {},
     "output_type": "execute_result"
    }
   ],
   "source": [
    "predict_gs_tree = gs_tree.predict(X_test)\n",
    "predict_gs_tree"
   ]
  },
  {
   "cell_type": "code",
   "execution_count": 43,
   "metadata": {},
   "outputs": [
    {
     "name": "stdout",
     "output_type": "stream",
     "text": [
      "GS Decision Tree Training Score: 1.0\n",
      "GS Decision Tree Score: 0.8235294117647058\n"
     ]
    }
   ],
   "source": [
    "print(f\"GS Decision Tree Training Score: {tree.score(X_train, y_train)}\")\n",
    "print(f\"GS Decision Tree Score: {tree.score(X_test, y_test)}\")"
   ]
  },
  {
   "cell_type": "code",
   "execution_count": 44,
   "metadata": {},
   "outputs": [
    {
     "data": {
      "text/plain": [
       "array([0, 1, 1, 1, 1, 0, 0, 0, 0, 1, 1, 0, 0, 0, 1, 0, 1, 0, 0, 1, 0, 1,\n",
       "       0, 1, 1, 1, 0, 0, 1, 0, 1, 1, 1, 0, 1, 1, 0, 0, 1, 1, 1, 1, 0, 0,\n",
       "       1, 0, 0, 0, 1, 1, 0, 0, 0, 1, 1, 0, 1, 0, 0, 1, 0, 0, 0, 1, 0, 1,\n",
       "       1, 1], dtype=int64)"
      ]
     },
     "execution_count": 44,
     "metadata": {},
     "output_type": "execute_result"
    }
   ],
   "source": [
    "from sklearn.ensemble import RandomForestClassifier\n",
    "\n",
    "rf = RandomForestClassifier()\n",
    "\n",
    "rf.fit(X_train, y_train)\n",
    "\n",
    "predict_rf = rf.predict(X_test)\n",
    "predict_rf"
   ]
  },
  {
   "cell_type": "code",
   "execution_count": 45,
   "metadata": {},
   "outputs": [
    {
     "name": "stdout",
     "output_type": "stream",
     "text": [
      "Random Forest Training Score: 1.0\n",
      "Random Forest Score: 0.8529411764705882\n"
     ]
    }
   ],
   "source": [
    "print(f\"Random Forest Training Score: {rf.score(X_train, y_train)}\")\n",
    "print(f\"Random Forest Score: {rf.score(X_test, y_test)}\")"
   ]
  },
  {
   "cell_type": "code",
   "execution_count": 46,
   "metadata": {},
   "outputs": [
    {
     "data": {
      "text/html": [
       "<style>#sk-container-id-3 {color: black;}#sk-container-id-3 pre{padding: 0;}#sk-container-id-3 div.sk-toggleable {background-color: white;}#sk-container-id-3 label.sk-toggleable__label {cursor: pointer;display: block;width: 100%;margin-bottom: 0;padding: 0.3em;box-sizing: border-box;text-align: center;}#sk-container-id-3 label.sk-toggleable__label-arrow:before {content: \"▸\";float: left;margin-right: 0.25em;color: #696969;}#sk-container-id-3 label.sk-toggleable__label-arrow:hover:before {color: black;}#sk-container-id-3 div.sk-estimator:hover label.sk-toggleable__label-arrow:before {color: black;}#sk-container-id-3 div.sk-toggleable__content {max-height: 0;max-width: 0;overflow: hidden;text-align: left;background-color: #f0f8ff;}#sk-container-id-3 div.sk-toggleable__content pre {margin: 0.2em;color: black;border-radius: 0.25em;background-color: #f0f8ff;}#sk-container-id-3 input.sk-toggleable__control:checked~div.sk-toggleable__content {max-height: 200px;max-width: 100%;overflow: auto;}#sk-container-id-3 input.sk-toggleable__control:checked~label.sk-toggleable__label-arrow:before {content: \"▾\";}#sk-container-id-3 div.sk-estimator input.sk-toggleable__control:checked~label.sk-toggleable__label {background-color: #d4ebff;}#sk-container-id-3 div.sk-label input.sk-toggleable__control:checked~label.sk-toggleable__label {background-color: #d4ebff;}#sk-container-id-3 input.sk-hidden--visually {border: 0;clip: rect(1px 1px 1px 1px);clip: rect(1px, 1px, 1px, 1px);height: 1px;margin: -1px;overflow: hidden;padding: 0;position: absolute;width: 1px;}#sk-container-id-3 div.sk-estimator {font-family: monospace;background-color: #f0f8ff;border: 1px dotted black;border-radius: 0.25em;box-sizing: border-box;margin-bottom: 0.5em;}#sk-container-id-3 div.sk-estimator:hover {background-color: #d4ebff;}#sk-container-id-3 div.sk-parallel-item::after {content: \"\";width: 100%;border-bottom: 1px solid gray;flex-grow: 1;}#sk-container-id-3 div.sk-label:hover label.sk-toggleable__label {background-color: #d4ebff;}#sk-container-id-3 div.sk-serial::before {content: \"\";position: absolute;border-left: 1px solid gray;box-sizing: border-box;top: 0;bottom: 0;left: 50%;z-index: 0;}#sk-container-id-3 div.sk-serial {display: flex;flex-direction: column;align-items: center;background-color: white;padding-right: 0.2em;padding-left: 0.2em;position: relative;}#sk-container-id-3 div.sk-item {position: relative;z-index: 1;}#sk-container-id-3 div.sk-parallel {display: flex;align-items: stretch;justify-content: center;background-color: white;position: relative;}#sk-container-id-3 div.sk-item::before, #sk-container-id-3 div.sk-parallel-item::before {content: \"\";position: absolute;border-left: 1px solid gray;box-sizing: border-box;top: 0;bottom: 0;left: 50%;z-index: -1;}#sk-container-id-3 div.sk-parallel-item {display: flex;flex-direction: column;z-index: 1;position: relative;background-color: white;}#sk-container-id-3 div.sk-parallel-item:first-child::after {align-self: flex-end;width: 50%;}#sk-container-id-3 div.sk-parallel-item:last-child::after {align-self: flex-start;width: 50%;}#sk-container-id-3 div.sk-parallel-item:only-child::after {width: 0;}#sk-container-id-3 div.sk-dashed-wrapped {border: 1px dashed gray;margin: 0 0.4em 0.5em 0.4em;box-sizing: border-box;padding-bottom: 0.4em;background-color: white;}#sk-container-id-3 div.sk-label label {font-family: monospace;font-weight: bold;display: inline-block;line-height: 1.2em;}#sk-container-id-3 div.sk-label-container {text-align: center;}#sk-container-id-3 div.sk-container {/* jupyter's `normalize.less` sets `[hidden] { display: none; }` but bootstrap.min.css set `[hidden] { display: none !important; }` so we also need the `!important` here to be able to override the default hidden behavior on the sphinx rendered scikit-learn.org. See: https://github.com/scikit-learn/scikit-learn/issues/21755 */display: inline-block !important;position: relative;}#sk-container-id-3 div.sk-text-repr-fallback {display: none;}</style><div id=\"sk-container-id-3\" class=\"sk-top-container\"><div class=\"sk-text-repr-fallback\"><pre>GridSearchCV(estimator=RandomForestClassifier(),\n",
       "             param_grid={&#x27;min_samples_split&#x27;: [2, 4, 6],\n",
       "                         &#x27;n_estimators&#x27;: [50, 100, 200]})</pre><b>In a Jupyter environment, please rerun this cell to show the HTML representation or trust the notebook. <br />On GitHub, the HTML representation is unable to render, please try loading this page with nbviewer.org.</b></div><div class=\"sk-container\" hidden><div class=\"sk-item sk-dashed-wrapped\"><div class=\"sk-label-container\"><div class=\"sk-label sk-toggleable\"><input class=\"sk-toggleable__control sk-hidden--visually\" id=\"sk-estimator-id-7\" type=\"checkbox\" ><label for=\"sk-estimator-id-7\" class=\"sk-toggleable__label sk-toggleable__label-arrow\">GridSearchCV</label><div class=\"sk-toggleable__content\"><pre>GridSearchCV(estimator=RandomForestClassifier(),\n",
       "             param_grid={&#x27;min_samples_split&#x27;: [2, 4, 6],\n",
       "                         &#x27;n_estimators&#x27;: [50, 100, 200]})</pre></div></div></div><div class=\"sk-parallel\"><div class=\"sk-parallel-item\"><div class=\"sk-item\"><div class=\"sk-label-container\"><div class=\"sk-label sk-toggleable\"><input class=\"sk-toggleable__control sk-hidden--visually\" id=\"sk-estimator-id-8\" type=\"checkbox\" ><label for=\"sk-estimator-id-8\" class=\"sk-toggleable__label sk-toggleable__label-arrow\">estimator: RandomForestClassifier</label><div class=\"sk-toggleable__content\"><pre>RandomForestClassifier()</pre></div></div></div><div class=\"sk-serial\"><div class=\"sk-item\"><div class=\"sk-estimator sk-toggleable\"><input class=\"sk-toggleable__control sk-hidden--visually\" id=\"sk-estimator-id-9\" type=\"checkbox\" ><label for=\"sk-estimator-id-9\" class=\"sk-toggleable__label sk-toggleable__label-arrow\">RandomForestClassifier</label><div class=\"sk-toggleable__content\"><pre>RandomForestClassifier()</pre></div></div></div></div></div></div></div></div></div></div>"
      ],
      "text/plain": [
       "GridSearchCV(estimator=RandomForestClassifier(),\n",
       "             param_grid={'min_samples_split': [2, 4, 6],\n",
       "                         'n_estimators': [50, 100, 200]})"
      ]
     },
     "execution_count": 46,
     "metadata": {},
     "output_type": "execute_result"
    }
   ],
   "source": [
    "rf_params = {\"n_estimators\": [50, 100, 200],\n",
    "              \"min_samples_split\": [2, 4, 6]}\n",
    "\n",
    "gs_rf = GridSearchCV(estimator=rf, param_grid=rf_params)\n",
    "\n",
    "gs_rf.fit(X_train, y_train)"
   ]
  },
  {
   "cell_type": "code",
   "execution_count": 47,
   "metadata": {},
   "outputs": [
    {
     "data": {
      "text/plain": [
       "{'min_samples_split': 2, 'n_estimators': 200}"
      ]
     },
     "execution_count": 47,
     "metadata": {},
     "output_type": "execute_result"
    }
   ],
   "source": [
    "gs_rf.best_params_"
   ]
  },
  {
   "cell_type": "code",
   "execution_count": 48,
   "metadata": {},
   "outputs": [
    {
     "data": {
      "text/plain": [
       "array([0, 1, 1, 1, 1, 0, 0, 0, 0, 1, 1, 0, 0, 0, 1, 0, 1, 0, 0, 1, 0, 1,\n",
       "       0, 1, 1, 1, 0, 0, 1, 0, 1, 1, 1, 0, 1, 1, 0, 0, 1, 1, 1, 1, 0, 0,\n",
       "       1, 0, 0, 0, 1, 1, 0, 0, 0, 1, 1, 0, 1, 0, 0, 1, 0, 0, 0, 1, 0, 1,\n",
       "       1, 1], dtype=int64)"
      ]
     },
     "execution_count": 48,
     "metadata": {},
     "output_type": "execute_result"
    }
   ],
   "source": [
    "predict_gs_rf = rf.predict(X_test)\n",
    "predict_gs_rf"
   ]
  },
  {
   "cell_type": "code",
   "execution_count": 49,
   "metadata": {},
   "outputs": [
    {
     "name": "stdout",
     "output_type": "stream",
     "text": [
      "GS Random Forest Training Score: 1.0\n",
      "GS Random Forest Score: 0.8529411764705882\n"
     ]
    }
   ],
   "source": [
    "print(f\"GS Random Forest Training Score: {gs_rf.score(X_train, y_train)}\")\n",
    "print(f\"GS Random Forest Score: {gs_rf.score(X_test, y_test)}\")"
   ]
  },
  {
   "cell_type": "code",
   "execution_count": 50,
   "metadata": {},
   "outputs": [
    {
     "data": {
      "text/plain": [
       "['model.pkl']"
      ]
     },
     "execution_count": 50,
     "metadata": {},
     "output_type": "execute_result"
    }
   ],
   "source": [
    "joblib.dump(lg, \"model.pkl\")"
   ]
  }
 ],
 "metadata": {
  "kernelspec": {
   "display_name": "base",
   "language": "python",
   "name": "python3"
  },
  "language_info": {
   "codemirror_mode": {
    "name": "ipython",
    "version": 3
   },
   "file_extension": ".py",
   "mimetype": "text/x-python",
   "name": "python",
   "nbconvert_exporter": "python",
   "pygments_lexer": "ipython3",
   "version": "3.11.5"
  }
 },
 "nbformat": 4,
 "nbformat_minor": 2
}
